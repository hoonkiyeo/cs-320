{
 "cells": [
  {
   "cell_type": "code",
   "execution_count": 1,
   "id": "d3273c32",
   "metadata": {},
   "outputs": [],
   "source": [
    "# project: p6\n",
    "# submitter: yeo9\n",
    "# partner: none\n",
    "# hours: 20\n",
    "\n",
    "import geopandas as gpd\n",
    "import sqlite3\n",
    "import pandas as pd\n",
    "from sklearn.linear_model import LinearRegression \n",
    "from sklearn.model_selection import train_test_split, cross_val_score\n",
    "from sklearn.pipeline import Pipeline\n",
    "from sklearn.preprocessing import PolynomialFeatures\n",
    "import matplotlib.pyplot as plt\n",
    "import numpy as np\n",
    "import rasterio\n",
    "from rasterio.mask import mask"
   ]
  },
  {
   "cell_type": "markdown",
   "id": "9f6fe530",
   "metadata": {},
   "source": [
    "### Model 1"
   ]
  },
  {
   "cell_type": "code",
   "execution_count": 2,
   "id": "40be7a5e",
   "metadata": {},
   "outputs": [
    {
     "data": {
      "text/html": [
       "<div>\n",
       "<style scoped>\n",
       "    .dataframe tbody tr th:only-of-type {\n",
       "        vertical-align: middle;\n",
       "    }\n",
       "\n",
       "    .dataframe tbody tr th {\n",
       "        vertical-align: top;\n",
       "    }\n",
       "\n",
       "    .dataframe thead th {\n",
       "        text-align: right;\n",
       "    }\n",
       "</style>\n",
       "<table border=\"1\" class=\"dataframe\">\n",
       "  <thead>\n",
       "    <tr style=\"text-align: right;\">\n",
       "      <th></th>\n",
       "      <th>NAME</th>\n",
       "      <th>POP100</th>\n",
       "      <th>geometry</th>\n",
       "    </tr>\n",
       "  </thead>\n",
       "  <tbody>\n",
       "    <tr>\n",
       "      <th>0</th>\n",
       "      <td>Racine County</td>\n",
       "      <td>195408</td>\n",
       "      <td>POLYGON ((-88.07073 42.66976, -88.06897 42.669...</td>\n",
       "    </tr>\n",
       "    <tr>\n",
       "      <th>1</th>\n",
       "      <td>Clark County</td>\n",
       "      <td>34690</td>\n",
       "      <td>POLYGON ((-90.55875 44.42221, -90.53398 44.422...</td>\n",
       "    </tr>\n",
       "    <tr>\n",
       "      <th>2</th>\n",
       "      <td>Wood County</td>\n",
       "      <td>74749</td>\n",
       "      <td>POLYGON ((-89.72464 44.33712, -89.72460 44.338...</td>\n",
       "    </tr>\n",
       "    <tr>\n",
       "      <th>3</th>\n",
       "      <td>Rusk County</td>\n",
       "      <td>14755</td>\n",
       "      <td>POLYGON ((-90.92517 45.37935, -90.92515 45.379...</td>\n",
       "    </tr>\n",
       "    <tr>\n",
       "      <th>4</th>\n",
       "      <td>Ozaukee County</td>\n",
       "      <td>86395</td>\n",
       "      <td>POLYGON ((-87.89269 43.19202, -87.89265 43.192...</td>\n",
       "    </tr>\n",
       "    <tr>\n",
       "      <th>...</th>\n",
       "      <td>...</td>\n",
       "      <td>...</td>\n",
       "      <td>...</td>\n",
       "    </tr>\n",
       "    <tr>\n",
       "      <th>67</th>\n",
       "      <td>Washburn County</td>\n",
       "      <td>15911</td>\n",
       "      <td>POLYGON ((-91.55065 46.07034, -91.55065 46.070...</td>\n",
       "    </tr>\n",
       "    <tr>\n",
       "      <th>68</th>\n",
       "      <td>Monroe County</td>\n",
       "      <td>44673</td>\n",
       "      <td>POLYGON ((-90.55246 43.72565, -90.55096 43.725...</td>\n",
       "    </tr>\n",
       "    <tr>\n",
       "      <th>69</th>\n",
       "      <td>Richland County</td>\n",
       "      <td>18021</td>\n",
       "      <td>POLYGON ((-90.31107 43.55399, -90.31108 43.553...</td>\n",
       "    </tr>\n",
       "    <tr>\n",
       "      <th>70</th>\n",
       "      <td>Price County</td>\n",
       "      <td>14159</td>\n",
       "      <td>POLYGON ((-90.04485 45.81765, -90.04440 45.830...</td>\n",
       "    </tr>\n",
       "    <tr>\n",
       "      <th>71</th>\n",
       "      <td>St. Croix County</td>\n",
       "      <td>84345</td>\n",
       "      <td>POLYGON ((-92.51872 45.20963, -92.52951 45.209...</td>\n",
       "    </tr>\n",
       "  </tbody>\n",
       "</table>\n",
       "<p>72 rows × 3 columns</p>\n",
       "</div>"
      ],
      "text/plain": [
       "                NAME  POP100  \\\n",
       "0      Racine County  195408   \n",
       "1       Clark County   34690   \n",
       "2        Wood County   74749   \n",
       "3        Rusk County   14755   \n",
       "4     Ozaukee County   86395   \n",
       "..               ...     ...   \n",
       "67   Washburn County   15911   \n",
       "68     Monroe County   44673   \n",
       "69   Richland County   18021   \n",
       "70      Price County   14159   \n",
       "71  St. Croix County   84345   \n",
       "\n",
       "                                             geometry  \n",
       "0   POLYGON ((-88.07073 42.66976, -88.06897 42.669...  \n",
       "1   POLYGON ((-90.55875 44.42221, -90.53398 44.422...  \n",
       "2   POLYGON ((-89.72464 44.33712, -89.72460 44.338...  \n",
       "3   POLYGON ((-90.92517 45.37935, -90.92515 45.379...  \n",
       "4   POLYGON ((-87.89269 43.19202, -87.89265 43.192...  \n",
       "..                                                ...  \n",
       "67  POLYGON ((-91.55065 46.07034, -91.55065 46.070...  \n",
       "68  POLYGON ((-90.55246 43.72565, -90.55096 43.725...  \n",
       "69  POLYGON ((-90.31107 43.55399, -90.31108 43.553...  \n",
       "70  POLYGON ((-90.04485 45.81765, -90.04440 45.830...  \n",
       "71  POLYGON ((-92.51872 45.20963, -92.52951 45.209...  \n",
       "\n",
       "[72 rows x 3 columns]"
      ]
     },
     "execution_count": 2,
     "metadata": {},
     "output_type": "execute_result"
    }
   ],
   "source": [
    "df = gpd.read_file(\"counties.geojson\")\n",
    "df"
   ]
  },
  {
   "cell_type": "code",
   "execution_count": 3,
   "id": "92d3f9d5",
   "metadata": {},
   "outputs": [
    {
     "data": {
      "text/plain": [
       "72"
      ]
     },
     "execution_count": 3,
     "metadata": {},
     "output_type": "execute_result"
    }
   ],
   "source": [
    "#Q1: How many counties are in Wisconsin?\n",
    "\n",
    "len(df)"
   ]
  },
  {
   "cell_type": "code",
   "execution_count": 4,
   "id": "4e426e18",
   "metadata": {},
   "outputs": [
    {
     "data": {
      "text/plain": [
       "<AxesSubplot:>"
      ]
     },
     "execution_count": 4,
     "metadata": {},
     "output_type": "execute_result"
    },
    {
     "data": {
      "image/png": "[encoded data removed]",
      "text/plain": [
       "<Figure size 432x288 with 2 Axes>"
      ]
     },
     "metadata": {
      "needs_background": "light"
     },
     "output_type": "display_data"
    }
   ],
   "source": [
    "#Q2: What is the population of each county in WI?\n",
    "\n",
    "df.plot(column = 'POP100', legend=True)"
   ]
  },
  {
   "cell_type": "code",
   "execution_count": 5,
   "id": "a6955a8f",
   "metadata": {},
   "outputs": [
    {
     "data": {
      "text/html": [
       "<div>\n",
       "<style scoped>\n",
       "    .dataframe tbody tr th:only-of-type {\n",
       "        vertical-align: middle;\n",
       "    }\n",
       "\n",
       "    .dataframe tbody tr th {\n",
       "        vertical-align: top;\n",
       "    }\n",
       "\n",
       "    .dataframe thead th {\n",
       "        text-align: right;\n",
       "    }\n",
       "</style>\n",
       "<table border=\"1\" class=\"dataframe\">\n",
       "  <thead>\n",
       "    <tr style=\"text-align: right;\">\n",
       "      <th></th>\n",
       "      <th>NAME</th>\n",
       "      <th>POP100</th>\n",
       "      <th>geometry</th>\n",
       "      <th>AREALAND</th>\n",
       "    </tr>\n",
       "  </thead>\n",
       "  <tbody>\n",
       "    <tr>\n",
       "      <th>0</th>\n",
       "      <td>Racine County</td>\n",
       "      <td>195408</td>\n",
       "      <td>POLYGON ((-88.07073 42.66976, -88.06897 42.669...</td>\n",
       "      <td>861533739</td>\n",
       "    </tr>\n",
       "    <tr>\n",
       "      <th>1</th>\n",
       "      <td>Clark County</td>\n",
       "      <td>34690</td>\n",
       "      <td>POLYGON ((-90.55875 44.42221, -90.53398 44.422...</td>\n",
       "      <td>3133378070</td>\n",
       "    </tr>\n",
       "    <tr>\n",
       "      <th>2</th>\n",
       "      <td>Wood County</td>\n",
       "      <td>74749</td>\n",
       "      <td>POLYGON ((-89.72464 44.33712, -89.72460 44.338...</td>\n",
       "      <td>2054044751</td>\n",
       "    </tr>\n",
       "    <tr>\n",
       "      <th>3</th>\n",
       "      <td>Rusk County</td>\n",
       "      <td>14755</td>\n",
       "      <td>POLYGON ((-90.92517 45.37935, -90.92515 45.379...</td>\n",
       "      <td>2366092584</td>\n",
       "    </tr>\n",
       "    <tr>\n",
       "      <th>4</th>\n",
       "      <td>Ozaukee County</td>\n",
       "      <td>86395</td>\n",
       "      <td>POLYGON ((-87.89269 43.19202, -87.89265 43.192...</td>\n",
       "      <td>603514413</td>\n",
       "    </tr>\n",
       "    <tr>\n",
       "      <th>...</th>\n",
       "      <td>...</td>\n",
       "      <td>...</td>\n",
       "      <td>...</td>\n",
       "      <td>...</td>\n",
       "    </tr>\n",
       "    <tr>\n",
       "      <th>67</th>\n",
       "      <td>Washburn County</td>\n",
       "      <td>15911</td>\n",
       "      <td>POLYGON ((-91.55065 46.07034, -91.55065 46.070...</td>\n",
       "      <td>2064515991</td>\n",
       "    </tr>\n",
       "    <tr>\n",
       "      <th>68</th>\n",
       "      <td>Monroe County</td>\n",
       "      <td>44673</td>\n",
       "      <td>POLYGON ((-90.55246 43.72565, -90.55096 43.725...</td>\n",
       "      <td>2333270295</td>\n",
       "    </tr>\n",
       "    <tr>\n",
       "      <th>69</th>\n",
       "      <td>Richland County</td>\n",
       "      <td>18021</td>\n",
       "      <td>POLYGON ((-90.31107 43.55399, -90.31108 43.553...</td>\n",
       "      <td>1518120276</td>\n",
       "    </tr>\n",
       "    <tr>\n",
       "      <th>70</th>\n",
       "      <td>Price County</td>\n",
       "      <td>14159</td>\n",
       "      <td>POLYGON ((-90.04485 45.81765, -90.04440 45.830...</td>\n",
       "      <td>3248866440</td>\n",
       "    </tr>\n",
       "    <tr>\n",
       "      <th>71</th>\n",
       "      <td>St. Croix County</td>\n",
       "      <td>84345</td>\n",
       "      <td>POLYGON ((-92.51872 45.20963, -92.52951 45.209...</td>\n",
       "      <td>1871138853</td>\n",
       "    </tr>\n",
       "  </tbody>\n",
       "</table>\n",
       "<p>72 rows × 4 columns</p>\n",
       "</div>"
      ],
      "text/plain": [
       "                NAME  POP100  \\\n",
       "0      Racine County  195408   \n",
       "1       Clark County   34690   \n",
       "2        Wood County   74749   \n",
       "3        Rusk County   14755   \n",
       "4     Ozaukee County   86395   \n",
       "..               ...     ...   \n",
       "67   Washburn County   15911   \n",
       "68     Monroe County   44673   \n",
       "69   Richland County   18021   \n",
       "70      Price County   14159   \n",
       "71  St. Croix County   84345   \n",
       "\n",
       "                                             geometry    AREALAND  \n",
       "0   POLYGON ((-88.07073 42.66976, -88.06897 42.669...   861533739  \n",
       "1   POLYGON ((-90.55875 44.42221, -90.53398 44.422...  3133378070  \n",
       "2   POLYGON ((-89.72464 44.33712, -89.72460 44.338...  2054044751  \n",
       "3   POLYGON ((-90.92517 45.37935, -90.92515 45.379...  2366092584  \n",
       "4   POLYGON ((-87.89269 43.19202, -87.89265 43.192...   603514413  \n",
       "..                                                ...         ...  \n",
       "67  POLYGON ((-91.55065 46.07034, -91.55065 46.070...  2064515991  \n",
       "68  POLYGON ((-90.55246 43.72565, -90.55096 43.725...  2333270295  \n",
       "69  POLYGON ((-90.31107 43.55399, -90.31108 43.553...  1518120276  \n",
       "70  POLYGON ((-90.04485 45.81765, -90.04440 45.830...  3248866440  \n",
       "71  POLYGON ((-92.51872 45.20963, -92.52951 45.209...  1871138853  \n",
       "\n",
       "[72 rows x 4 columns]"
      ]
     },
     "execution_count": 5,
     "metadata": {},
     "output_type": "execute_result"
    }
   ],
   "source": [
    "c = sqlite3.connect(\"counties_tracts.db\")\n",
    "df2 = pd.read_sql(\"SELECT AREALAND FROM counties\", c)\n",
    "new_df = df.join(df2)\n",
    "new_df"
   ]
  },
  {
   "cell_type": "code",
   "execution_count": 6,
   "id": "7d5f9a7e",
   "metadata": {},
   "outputs": [
    {
     "data": {
      "text/plain": [
       "['Kewaunee County',\n",
       " 'Calumet County',\n",
       " 'Adams County',\n",
       " 'Eau Claire County',\n",
       " 'Milwaukee County',\n",
       " 'Ashland County',\n",
       " 'Wood County',\n",
       " 'Dodge County',\n",
       " 'Sauk County',\n",
       " 'Clark County',\n",
       " 'Pepin County',\n",
       " 'Taylor County',\n",
       " 'Iron County',\n",
       " 'Outagamie County',\n",
       " 'Florence County',\n",
       " 'Oneida County',\n",
       " 'Pierce County',\n",
       " 'Grant County']"
      ]
     },
     "execution_count": 6,
     "metadata": {},
     "output_type": "execute_result"
    }
   ],
   "source": [
    "#Q3: What are the counties in the test dataset?\n",
    "\n",
    "train, test = train_test_split(new_df, random_state=320)\n",
    "\n",
    "county_list = []\n",
    "\n",
    "for name in test['NAME']:\n",
    "    county_list.append(name)\n",
    "county_list"
   ]
  },
  {
   "cell_type": "code",
   "execution_count": 7,
   "id": "ff7c76ee",
   "metadata": {},
   "outputs": [
    {
     "data": {
      "text/plain": [
       "0.022002661530554857"
      ]
     },
     "execution_count": 7,
     "metadata": {},
     "output_type": "execute_result"
    }
   ],
   "source": [
    "#Q4: How much variance in the POP100 can a LinearRegression model predict based only on AREALAND?\n",
    "\n",
    "lr = LinearRegression()\n",
    "lr.fit(train[['AREALAND']], train['POP100'])\n",
    "lr.score(test[['AREALAND']], test['POP100'])"
   ]
  },
  {
   "cell_type": "code",
   "execution_count": 8,
   "id": "5b3371b3",
   "metadata": {},
   "outputs": [
    {
     "data": {
      "text/plain": [
       "82032.53073541154"
      ]
     },
     "execution_count": 8,
     "metadata": {},
     "output_type": "execute_result"
    }
   ],
   "source": [
    "#Q5: What is the expected population of a county with 500 square miles of area, according to the model?\n",
    "\n",
    "slope = lr.coef_[0]\n",
    "intercept = lr.intercept_\n",
    "\n",
    "intercept + (500 * 2.59 * 1000000) * slope "
   ]
  },
  {
   "cell_type": "markdown",
   "id": "487dd178",
   "metadata": {},
   "source": [
    "### Model 2"
   ]
  },
  {
   "cell_type": "code",
   "execution_count": 9,
   "id": "dab07e78",
   "metadata": {},
   "outputs": [
    {
     "data": {
      "text/html": [
       "<div>\n",
       "<style scoped>\n",
       "    .dataframe tbody tr th:only-of-type {\n",
       "        vertical-align: middle;\n",
       "    }\n",
       "\n",
       "    .dataframe tbody tr th {\n",
       "        vertical-align: top;\n",
       "    }\n",
       "\n",
       "    .dataframe thead th {\n",
       "        text-align: right;\n",
       "    }\n",
       "</style>\n",
       "<table border=\"1\" class=\"dataframe\">\n",
       "  <thead>\n",
       "    <tr style=\"text-align: right;\">\n",
       "      <th></th>\n",
       "      <th>index</th>\n",
       "      <th>NAME</th>\n",
       "      <th>COUNTY</th>\n",
       "      <th>HU100</th>\n",
       "    </tr>\n",
       "  </thead>\n",
       "  <tbody>\n",
       "    <tr>\n",
       "      <th>0</th>\n",
       "      <td>0</td>\n",
       "      <td>Census Tract 9701.01</td>\n",
       "      <td>085</td>\n",
       "      <td>2760</td>\n",
       "    </tr>\n",
       "    <tr>\n",
       "      <th>1</th>\n",
       "      <td>1</td>\n",
       "      <td>Census Tract 9710.01</td>\n",
       "      <td>085</td>\n",
       "      <td>1536</td>\n",
       "    </tr>\n",
       "    <tr>\n",
       "      <th>2</th>\n",
       "      <td>2</td>\n",
       "      <td>Census Tract 9706.01</td>\n",
       "      <td>085</td>\n",
       "      <td>1208</td>\n",
       "    </tr>\n",
       "    <tr>\n",
       "      <th>3</th>\n",
       "      <td>3</td>\n",
       "      <td>Census Tract 9706.02</td>\n",
       "      <td>085</td>\n",
       "      <td>3136</td>\n",
       "    </tr>\n",
       "    <tr>\n",
       "      <th>4</th>\n",
       "      <td>4</td>\n",
       "      <td>Census Tract 4301</td>\n",
       "      <td>131</td>\n",
       "      <td>2144</td>\n",
       "    </tr>\n",
       "    <tr>\n",
       "      <th>...</th>\n",
       "      <td>...</td>\n",
       "      <td>...</td>\n",
       "      <td>...</td>\n",
       "      <td>...</td>\n",
       "    </tr>\n",
       "    <tr>\n",
       "      <th>1404</th>\n",
       "      <td>1404</td>\n",
       "      <td>Census Tract 14</td>\n",
       "      <td>059</td>\n",
       "      <td>2913</td>\n",
       "    </tr>\n",
       "    <tr>\n",
       "      <th>1405</th>\n",
       "      <td>1405</td>\n",
       "      <td>Census Tract 15</td>\n",
       "      <td>059</td>\n",
       "      <td>1550</td>\n",
       "    </tr>\n",
       "    <tr>\n",
       "      <th>1406</th>\n",
       "      <td>1406</td>\n",
       "      <td>Census Tract 16</td>\n",
       "      <td>059</td>\n",
       "      <td>1286</td>\n",
       "    </tr>\n",
       "    <tr>\n",
       "      <th>1407</th>\n",
       "      <td>1407</td>\n",
       "      <td>Census Tract 17</td>\n",
       "      <td>059</td>\n",
       "      <td>1068</td>\n",
       "    </tr>\n",
       "    <tr>\n",
       "      <th>1408</th>\n",
       "      <td>1408</td>\n",
       "      <td>Census Tract 18</td>\n",
       "      <td>059</td>\n",
       "      <td>927</td>\n",
       "    </tr>\n",
       "  </tbody>\n",
       "</table>\n",
       "<p>1409 rows × 4 columns</p>\n",
       "</div>"
      ],
      "text/plain": [
       "      index                  NAME COUNTY  HU100\n",
       "0         0  Census Tract 9701.01    085   2760\n",
       "1         1  Census Tract 9710.01    085   1536\n",
       "2         2  Census Tract 9706.01    085   1208\n",
       "3         3  Census Tract 9706.02    085   3136\n",
       "4         4     Census Tract 4301    131   2144\n",
       "...     ...                   ...    ...    ...\n",
       "1404   1404       Census Tract 14    059   2913\n",
       "1405   1405       Census Tract 15    059   1550\n",
       "1406   1406       Census Tract 16    059   1286\n",
       "1407   1407       Census Tract 17    059   1068\n",
       "1408   1408       Census Tract 18    059    927\n",
       "\n",
       "[1409 rows x 4 columns]"
      ]
     },
     "execution_count": 9,
     "metadata": {},
     "output_type": "execute_result"
    }
   ],
   "source": [
    "pd.read_sql(\"SELECT * FROM tracts\", c)"
   ]
  },
  {
   "cell_type": "code",
   "execution_count": 10,
   "id": "54ad0dcb",
   "metadata": {},
   "outputs": [
    {
     "data": {
      "text/html": [
       "<div>\n",
       "<style scoped>\n",
       "    .dataframe tbody tr th:only-of-type {\n",
       "        vertical-align: middle;\n",
       "    }\n",
       "\n",
       "    .dataframe tbody tr th {\n",
       "        vertical-align: top;\n",
       "    }\n",
       "\n",
       "    .dataframe thead th {\n",
       "        text-align: right;\n",
       "    }\n",
       "</style>\n",
       "<table border=\"1\" class=\"dataframe\">\n",
       "  <thead>\n",
       "    <tr style=\"text-align: right;\">\n",
       "      <th></th>\n",
       "      <th>index</th>\n",
       "      <th>NAME</th>\n",
       "      <th>COUNTY</th>\n",
       "      <th>AREALAND</th>\n",
       "      <th>AREAWATER</th>\n",
       "    </tr>\n",
       "  </thead>\n",
       "  <tbody>\n",
       "    <tr>\n",
       "      <th>0</th>\n",
       "      <td>0</td>\n",
       "      <td>Racine County</td>\n",
       "      <td>101</td>\n",
       "      <td>861533739</td>\n",
       "      <td>1190103013</td>\n",
       "    </tr>\n",
       "    <tr>\n",
       "      <th>1</th>\n",
       "      <td>1</td>\n",
       "      <td>Clark County</td>\n",
       "      <td>019</td>\n",
       "      <td>3133378070</td>\n",
       "      <td>23239614</td>\n",
       "    </tr>\n",
       "    <tr>\n",
       "      <th>2</th>\n",
       "      <td>2</td>\n",
       "      <td>Wood County</td>\n",
       "      <td>141</td>\n",
       "      <td>2054044751</td>\n",
       "      <td>41994799</td>\n",
       "    </tr>\n",
       "    <tr>\n",
       "      <th>3</th>\n",
       "      <td>3</td>\n",
       "      <td>Rusk County</td>\n",
       "      <td>107</td>\n",
       "      <td>2366092584</td>\n",
       "      <td>44813690</td>\n",
       "    </tr>\n",
       "    <tr>\n",
       "      <th>4</th>\n",
       "      <td>4</td>\n",
       "      <td>Ozaukee County</td>\n",
       "      <td>089</td>\n",
       "      <td>603514413</td>\n",
       "      <td>2287415379</td>\n",
       "    </tr>\n",
       "    <tr>\n",
       "      <th>...</th>\n",
       "      <td>...</td>\n",
       "      <td>...</td>\n",
       "      <td>...</td>\n",
       "      <td>...</td>\n",
       "      <td>...</td>\n",
       "    </tr>\n",
       "    <tr>\n",
       "      <th>67</th>\n",
       "      <td>67</td>\n",
       "      <td>Washburn County</td>\n",
       "      <td>129</td>\n",
       "      <td>2064515991</td>\n",
       "      <td>145563849</td>\n",
       "    </tr>\n",
       "    <tr>\n",
       "      <th>68</th>\n",
       "      <td>68</td>\n",
       "      <td>Monroe County</td>\n",
       "      <td>081</td>\n",
       "      <td>2333270295</td>\n",
       "      <td>18986835</td>\n",
       "    </tr>\n",
       "    <tr>\n",
       "      <th>69</th>\n",
       "      <td>69</td>\n",
       "      <td>Richland County</td>\n",
       "      <td>103</td>\n",
       "      <td>1518120276</td>\n",
       "      <td>8153423</td>\n",
       "    </tr>\n",
       "    <tr>\n",
       "      <th>70</th>\n",
       "      <td>70</td>\n",
       "      <td>Price County</td>\n",
       "      <td>099</td>\n",
       "      <td>3248866440</td>\n",
       "      <td>62102368</td>\n",
       "    </tr>\n",
       "    <tr>\n",
       "      <th>71</th>\n",
       "      <td>71</td>\n",
       "      <td>St. Croix County</td>\n",
       "      <td>109</td>\n",
       "      <td>1871138853</td>\n",
       "      <td>34271811</td>\n",
       "    </tr>\n",
       "  </tbody>\n",
       "</table>\n",
       "<p>72 rows × 5 columns</p>\n",
       "</div>"
      ],
      "text/plain": [
       "    index              NAME COUNTY    AREALAND   AREAWATER\n",
       "0       0     Racine County    101   861533739  1190103013\n",
       "1       1      Clark County    019  3133378070    23239614\n",
       "2       2       Wood County    141  2054044751    41994799\n",
       "3       3       Rusk County    107  2366092584    44813690\n",
       "4       4    Ozaukee County    089   603514413  2287415379\n",
       "..    ...               ...    ...         ...         ...\n",
       "67     67   Washburn County    129  2064515991   145563849\n",
       "68     68     Monroe County    081  2333270295    18986835\n",
       "69     69   Richland County    103  1518120276     8153423\n",
       "70     70      Price County    099  3248866440    62102368\n",
       "71     71  St. Croix County    109  1871138853    34271811\n",
       "\n",
       "[72 rows x 5 columns]"
      ]
     },
     "execution_count": 10,
     "metadata": {},
     "output_type": "execute_result"
    }
   ],
   "source": [
    "counties = pd.read_sql(\"SELECT * FROM counties\", c)\n",
    "counties"
   ]
  },
  {
   "cell_type": "code",
   "execution_count": 11,
   "id": "6de9af6b",
   "metadata": {},
   "outputs": [
    {
     "data": {
      "text/html": [
       "<div>\n",
       "<style scoped>\n",
       "    .dataframe tbody tr th:only-of-type {\n",
       "        vertical-align: middle;\n",
       "    }\n",
       "\n",
       "    .dataframe tbody tr th {\n",
       "        vertical-align: top;\n",
       "    }\n",
       "\n",
       "    .dataframe thead th {\n",
       "        text-align: right;\n",
       "    }\n",
       "</style>\n",
       "<table border=\"1\" class=\"dataframe\">\n",
       "  <thead>\n",
       "    <tr style=\"text-align: right;\">\n",
       "      <th></th>\n",
       "      <th>index</th>\n",
       "      <th>NAME</th>\n",
       "      <th>COUNTY</th>\n",
       "      <th>HU100</th>\n",
       "      <th>index</th>\n",
       "      <th>NAME</th>\n",
       "      <th>COUNTY</th>\n",
       "      <th>AREALAND</th>\n",
       "      <th>AREAWATER</th>\n",
       "    </tr>\n",
       "  </thead>\n",
       "  <tbody>\n",
       "    <tr>\n",
       "      <th>0</th>\n",
       "      <td>0</td>\n",
       "      <td>Census Tract 9701.01</td>\n",
       "      <td>085</td>\n",
       "      <td>2760</td>\n",
       "      <td>0</td>\n",
       "      <td>Racine County</td>\n",
       "      <td>101</td>\n",
       "      <td>861533739</td>\n",
       "      <td>1190103013</td>\n",
       "    </tr>\n",
       "    <tr>\n",
       "      <th>1</th>\n",
       "      <td>0</td>\n",
       "      <td>Census Tract 9701.01</td>\n",
       "      <td>085</td>\n",
       "      <td>2760</td>\n",
       "      <td>1</td>\n",
       "      <td>Clark County</td>\n",
       "      <td>019</td>\n",
       "      <td>3133378070</td>\n",
       "      <td>23239614</td>\n",
       "    </tr>\n",
       "    <tr>\n",
       "      <th>2</th>\n",
       "      <td>0</td>\n",
       "      <td>Census Tract 9701.01</td>\n",
       "      <td>085</td>\n",
       "      <td>2760</td>\n",
       "      <td>2</td>\n",
       "      <td>Wood County</td>\n",
       "      <td>141</td>\n",
       "      <td>2054044751</td>\n",
       "      <td>41994799</td>\n",
       "    </tr>\n",
       "    <tr>\n",
       "      <th>3</th>\n",
       "      <td>0</td>\n",
       "      <td>Census Tract 9701.01</td>\n",
       "      <td>085</td>\n",
       "      <td>2760</td>\n",
       "      <td>3</td>\n",
       "      <td>Rusk County</td>\n",
       "      <td>107</td>\n",
       "      <td>2366092584</td>\n",
       "      <td>44813690</td>\n",
       "    </tr>\n",
       "    <tr>\n",
       "      <th>4</th>\n",
       "      <td>0</td>\n",
       "      <td>Census Tract 9701.01</td>\n",
       "      <td>085</td>\n",
       "      <td>2760</td>\n",
       "      <td>4</td>\n",
       "      <td>Ozaukee County</td>\n",
       "      <td>089</td>\n",
       "      <td>603514413</td>\n",
       "      <td>2287415379</td>\n",
       "    </tr>\n",
       "    <tr>\n",
       "      <th>...</th>\n",
       "      <td>...</td>\n",
       "      <td>...</td>\n",
       "      <td>...</td>\n",
       "      <td>...</td>\n",
       "      <td>...</td>\n",
       "      <td>...</td>\n",
       "      <td>...</td>\n",
       "      <td>...</td>\n",
       "      <td>...</td>\n",
       "    </tr>\n",
       "    <tr>\n",
       "      <th>101443</th>\n",
       "      <td>1408</td>\n",
       "      <td>Census Tract 18</td>\n",
       "      <td>059</td>\n",
       "      <td>927</td>\n",
       "      <td>67</td>\n",
       "      <td>Washburn County</td>\n",
       "      <td>129</td>\n",
       "      <td>2064515991</td>\n",
       "      <td>145563849</td>\n",
       "    </tr>\n",
       "    <tr>\n",
       "      <th>101444</th>\n",
       "      <td>1408</td>\n",
       "      <td>Census Tract 18</td>\n",
       "      <td>059</td>\n",
       "      <td>927</td>\n",
       "      <td>68</td>\n",
       "      <td>Monroe County</td>\n",
       "      <td>081</td>\n",
       "      <td>2333270295</td>\n",
       "      <td>18986835</td>\n",
       "    </tr>\n",
       "    <tr>\n",
       "      <th>101445</th>\n",
       "      <td>1408</td>\n",
       "      <td>Census Tract 18</td>\n",
       "      <td>059</td>\n",
       "      <td>927</td>\n",
       "      <td>69</td>\n",
       "      <td>Richland County</td>\n",
       "      <td>103</td>\n",
       "      <td>1518120276</td>\n",
       "      <td>8153423</td>\n",
       "    </tr>\n",
       "    <tr>\n",
       "      <th>101446</th>\n",
       "      <td>1408</td>\n",
       "      <td>Census Tract 18</td>\n",
       "      <td>059</td>\n",
       "      <td>927</td>\n",
       "      <td>70</td>\n",
       "      <td>Price County</td>\n",
       "      <td>099</td>\n",
       "      <td>3248866440</td>\n",
       "      <td>62102368</td>\n",
       "    </tr>\n",
       "    <tr>\n",
       "      <th>101447</th>\n",
       "      <td>1408</td>\n",
       "      <td>Census Tract 18</td>\n",
       "      <td>059</td>\n",
       "      <td>927</td>\n",
       "      <td>71</td>\n",
       "      <td>St. Croix County</td>\n",
       "      <td>109</td>\n",
       "      <td>1871138853</td>\n",
       "      <td>34271811</td>\n",
       "    </tr>\n",
       "  </tbody>\n",
       "</table>\n",
       "<p>101448 rows × 9 columns</p>\n",
       "</div>"
      ],
      "text/plain": [
       "        index                  NAME COUNTY  HU100  index              NAME  \\\n",
       "0           0  Census Tract 9701.01    085   2760      0     Racine County   \n",
       "1           0  Census Tract 9701.01    085   2760      1      Clark County   \n",
       "2           0  Census Tract 9701.01    085   2760      2       Wood County   \n",
       "3           0  Census Tract 9701.01    085   2760      3       Rusk County   \n",
       "4           0  Census Tract 9701.01    085   2760      4    Ozaukee County   \n",
       "...       ...                   ...    ...    ...    ...               ...   \n",
       "101443   1408       Census Tract 18    059    927     67   Washburn County   \n",
       "101444   1408       Census Tract 18    059    927     68     Monroe County   \n",
       "101445   1408       Census Tract 18    059    927     69   Richland County   \n",
       "101446   1408       Census Tract 18    059    927     70      Price County   \n",
       "101447   1408       Census Tract 18    059    927     71  St. Croix County   \n",
       "\n",
       "       COUNTY    AREALAND   AREAWATER  \n",
       "0         101   861533739  1190103013  \n",
       "1         019  3133378070    23239614  \n",
       "2         141  2054044751    41994799  \n",
       "3         107  2366092584    44813690  \n",
       "4         089   603514413  2287415379  \n",
       "...       ...         ...         ...  \n",
       "101443    129  2064515991   145563849  \n",
       "101444    081  2333270295    18986835  \n",
       "101445    103  1518120276     8153423  \n",
       "101446    099  3248866440    62102368  \n",
       "101447    109  1871138853    34271811  \n",
       "\n",
       "[101448 rows x 9 columns]"
      ]
     },
     "execution_count": 11,
     "metadata": {},
     "output_type": "execute_result"
    }
   ],
   "source": [
    "df2 = pd.read_sql(\"\"\"\n",
    "  SELECT * FROM \n",
    "  tracts INNER JOIN counties \"\"\",\n",
    "  c)\n",
    "\n",
    "df2"
   ]
  },
  {
   "cell_type": "code",
   "execution_count": 12,
   "id": "9aa86441",
   "metadata": {},
   "outputs": [],
   "source": [
    "final_1 = counties.join(pd.read_sql(\"\"\"SELECT COUNTY, SUM(HU100) AS HU100 FROM tracts GROUP BY COUNTY\"\"\", c).set_index(\"COUNTY\"), on = 'COUNTY')"
   ]
  },
  {
   "cell_type": "code",
   "execution_count": 13,
   "id": "e00ab3f5",
   "metadata": {},
   "outputs": [
    {
     "data": {
      "text/plain": [
       "{'Walworth County': 51531,\n",
       " 'Marquette County': 9896,\n",
       " 'Racine County': 82164,\n",
       " 'Waupaca County': 25396,\n",
       " 'Lincoln County': 16784,\n",
       " 'Washburn County': 12979,\n",
       " 'Door County': 23966,\n",
       " 'Waukesha County': 160864,\n",
       " 'Sheboygan County': 50766,\n",
       " 'La Crosse County': 48402,\n",
       " 'Langlade County': 12360,\n",
       " 'Marathon County': 57734,\n",
       " 'Jefferson County': 35147,\n",
       " 'Price County': 11120,\n",
       " 'Vilas County': 25116,\n",
       " 'Columbia County': 26137,\n",
       " 'Ozaukee County': 36267,\n",
       " 'Fond du Lac County': 43910,\n",
       " 'Crawford County': 8802,\n",
       " 'Lafayette County': 7230,\n",
       " 'Green County': 15856,\n",
       " 'Marinette County': 30379,\n",
       " 'Vernon County': 13720,\n",
       " 'Douglas County': 22825,\n",
       " 'Rock County': 68422,\n",
       " 'Iowa County': 10719,\n",
       " 'Dane County': 216022,\n",
       " 'Bayfield County': 12999,\n",
       " 'Polk County': 24248,\n",
       " 'Trempealeau County': 12619,\n",
       " 'Brown County': 104371,\n",
       " 'Washington County': 54695,\n",
       " 'Chippewa County': 27185,\n",
       " 'Oconto County': 23537,\n",
       " 'Richland County': 8868,\n",
       " 'Portage County': 30054,\n",
       " 'Sawyer County': 15975,\n",
       " 'Menominee County': 2253,\n",
       " 'Barron County': 23614,\n",
       " 'Shawano County': 20720,\n",
       " 'Winnebago County': 73329,\n",
       " 'Rusk County': 8883,\n",
       " 'Manitowoc County': 37189,\n",
       " 'Dunn County': 17964,\n",
       " 'Monroe County': 19204,\n",
       " 'Waushara County': 14843,\n",
       " 'Forest County': 8970,\n",
       " 'Green Lake County': 10616,\n",
       " 'Juneau County': 14669,\n",
       " 'St. Croix County': 33983,\n",
       " 'Buffalo County': 6664,\n",
       " 'Kenosha County': 69288,\n",
       " 'Jackson County': 9727,\n",
       " 'Burnett County': 15278}"
      ]
     },
     "execution_count": 13,
     "metadata": {},
     "output_type": "execute_result"
    }
   ],
   "source": [
    "#Q6: What are the HU100 values for the counties in the train dataset?\n",
    "\n",
    "final = df.join(final_1['HU100'])\n",
    "train, test = train_test_split(final, random_state=320)\n",
    "answer_dic = {}\n",
    "\n",
    "\n",
    "for n in train.index:\n",
    "    answer_dic[train['NAME'][n]] = train['HU100'][n]\n",
    "    \n",
    "answer_dic"
   ]
  },
  {
   "cell_type": "code",
   "execution_count": 14,
   "id": "1352c55a",
   "metadata": {},
   "outputs": [
    {
     "data": {
      "text/plain": [
       "0.9652534544116037"
      ]
     },
     "execution_count": 14,
     "metadata": {},
     "output_type": "execute_result"
    }
   ],
   "source": [
    "#Q7: How much variance in the POP100 can a LinearRegression model predict based only on HU100?\n",
    "\n",
    "lr = LinearRegression()\n",
    "lr.fit(train[['HU100']], train['POP100'])\n",
    "\n",
    "\n",
    "\n",
    "cross_val_score(lr, train[['HU100']], train['POP100'], cv=5).mean()"
   ]
  },
  {
   "cell_type": "code",
   "execution_count": 15,
   "id": "e30acf5d",
   "metadata": {},
   "outputs": [
    {
     "data": {
      "text/plain": [
       "0.03704265206670459"
      ]
     },
     "execution_count": 15,
     "metadata": {},
     "output_type": "execute_result"
    }
   ],
   "source": [
    "#Q8: What is the standard deviation of the scores averaged in the previous question?\n",
    "\n",
    "scores = cross_val_score(lr, train[['HU100']], train['POP100'], cv=5)\n",
    "\n",
    "scores.std()"
   ]
  },
  {
   "cell_type": "code",
   "execution_count": 16,
   "id": "080edf9e",
   "metadata": {},
   "outputs": [
    {
     "data": {
      "text/plain": [
       "'POP100 = 2.39*HU100 + -7910.46'"
      ]
     },
     "execution_count": 16,
     "metadata": {},
     "output_type": "execute_result"
    }
   ],
   "source": [
    "#Q9: What is the formula relating POP100 and HU100?\n",
    "\n",
    "\n",
    "# lr.intercept_\n",
    "# lr.coef_\n",
    "\n",
    "'POP100 = 2.39*HU100 + -7910.46'"
   ]
  },
  {
   "cell_type": "code",
   "execution_count": 17,
   "id": "731655f5",
   "metadata": {},
   "outputs": [
    {
     "data": {
      "text/plain": [
       "Text(216022, 488073, 'Dane')"
      ]
     },
     "execution_count": 17,
     "metadata": {},
     "output_type": "execute_result"
    },
    {
     "data": {
      "image/png": "[encoded data removed]",
      "text/plain": [
       "<Figure size 432x288 with 1 Axes>"
      ]
     },
     "metadata": {
      "needs_background": "light"
     },
     "output_type": "display_data"
    }
   ],
   "source": [
    "#Q10: what is the relationship between HU100 and POP100, visually?\n",
    "answer_dic2 = {}\n",
    "for n in final.index:\n",
    "    answer_dic2[final['NAME'][n]] = final['POP100'][n]\n",
    "\n",
    "final['predicted_POP100'] = 2.39 * final['HU100'] - 7910.46\n",
    "\n",
    "ax = final.plot.line(x = 'HU100', y = 'predicted_POP100', color = \"red\")\n",
    "final.plot.scatter(ax = ax, x = 'HU100', y = 'POP100', color = \"black\").text(answer_dic['Dane County'],answer_dic2['Dane County'], \"Dane\", fontsize=12)#plt.plot(x, m*x + b)"
   ]
  },
  {
   "cell_type": "markdown",
   "id": "576f37a0",
   "metadata": {},
   "source": [
    "### Model 3"
   ]
  },
  {
   "cell_type": "code",
   "execution_count": 18,
   "id": "f034e9d2",
   "metadata": {},
   "outputs": [
    {
     "data": {
      "text/plain": [
       "12"
      ]
     },
     "execution_count": 18,
     "metadata": {},
     "output_type": "execute_result"
    }
   ],
   "source": [
    "#Q11: How many numbers in the matrix A is between 2 and 5 (inclusive)?\n",
    "\n",
    "A = np.array([\n",
    "    [0,0,5,8,4],\n",
    "    [1,2,4,0,3],\n",
    "    [2,4,0,9,2],\n",
    "    [3,5,2,1,1],\n",
    "    [0,5,0,1,0]\n",
    "])\n",
    "\n",
    "((A >= 2) & (A <= 5)).sum()"
   ]
  },
  {
   "cell_type": "code",
   "execution_count": 19,
   "id": "589eb3d6",
   "metadata": {},
   "outputs": [],
   "source": [
    "from matplotlib.colors import ListedColormap\n",
    "\n",
    "c = np.zeros((256,3))\n",
    "c[0] = [0.00000000000, 0.00000000000, 0.00000000000]\n",
    "c[11] = [0.27843137255, 0.41960784314, 0.62745098039]\n",
    "c[12] = [0.81960784314, 0.86666666667, 0.97647058824]\n",
    "c[21] = [0.86666666667, 0.78823529412, 0.78823529412]\n",
    "c[22] = [0.84705882353, 0.57647058824, 0.50980392157]\n",
    "c[23] = [0.92941176471, 0.00000000000, 0.00000000000]\n",
    "c[24] = [0.66666666667, 0.00000000000, 0.00000000000]\n",
    "c[31] = [0.69803921569, 0.67843137255, 0.63921568628]\n",
    "c[41] = [0.40784313726, 0.66666666667, 0.38823529412]\n",
    "c[42] = [0.10980392157, 0.38823529412, 0.18823529412]\n",
    "c[43] = [0.70980392157, 0.78823529412, 0.55686274510]\n",
    "c[51] = [0.64705882353, 0.54901960784, 0.18823529412]\n",
    "c[52] = [0.80000000000, 0.72941176471, 0.48627450980]\n",
    "c[71] = [0.88627450980, 0.88627450980, 0.75686274510]\n",
    "c[72] = [0.78823529412, 0.78823529412, 0.46666666667]\n",
    "c[73] = [0.60000000000, 0.75686274510, 0.27843137255]\n",
    "c[74] = [0.46666666667, 0.67843137255, 0.57647058824]\n",
    "c[81] = [0.85882352941, 0.84705882353, 0.23921568628]\n",
    "c[82] = [0.66666666667, 0.43921568628, 0.15686274510]\n",
    "c[90] = [0.72941176471, 0.84705882353, 0.91764705882]\n",
    "c[95] = [0.43921568628, 0.63921568628, 0.72941176471]\n",
    "custom_cmap = ListedColormap(c)"
   ]
  },
  {
   "cell_type": "code",
   "execution_count": 20,
   "id": "919e186a",
   "metadata": {},
   "outputs": [],
   "source": [
    "land = rasterio.open(\"zip://../p6/land.zip!wi.tif\")\n",
    "url = \"https://tigerweb.geo.census.gov/arcgis/rest/services/TIGERweb/tigerWMS_Census2020/MapServer/82/query?where=NAME%3D%27Milwaukee+County%27&text=&objectIds=&time=&geometry=&geometryType=esriGeometryEnvelope&inSR=&spatialRel=esriSpatialRelIntersects&distance=&units=esriSRUnit_Foot&relationParam=&outFields=&returnGeometry=true&returnTrueCurves=false&maxAllowableOffset=&geometryPrecision=&outSR=&havingClause=&returnIdsOnly=false&returnCountOnly=false&orderByFields=&groupByFieldsForStatistics=&outStatistics=&returnZ=false&returnM=false&gdbVersion=&historicMoment=&returnDistinctValues=false&resultOffset=&resultRecordCount=&returnExtentOnly=false&datumTransformation=&parameterValues=&rangeValues=&quantizationParameters=&featureEncoding=esriDefault&f=geojson\"\n",
    "mil = gpd.read_file(url)\n",
    "from rasterio.mask import mask\n",
    "matrix, _ = mask(land, mil.to_crs(land.crs)[\"geometry\"], crop=True)\n",
    "matrix = matrix[0]"
   ]
  },
  {
   "cell_type": "code",
   "execution_count": 21,
   "id": "9561c5f1",
   "metadata": {},
   "outputs": [
    {
     "data": {
      "text/plain": [
       "<matplotlib.image.AxesImage at 0x7f6cfd636c70>"
      ]
     },
     "execution_count": 21,
     "metadata": {},
     "output_type": "execute_result"
    },
    {
     "data": {
      "image/png": "[encoded data removed]",
      "text/plain": [
       "<Figure size 864x864 with 1 Axes>"
      ]
     },
     "metadata": {
      "needs_background": "light"
     },
     "output_type": "display_data"
    }
   ],
   "source": [
    "#Q12: How does Milwaukee County Look?\n",
    "\n",
    "fig, ax = plt.subplots(figsize=(12,12))\n",
    "ax.imshow(matrix, vmin=0, vmax=255, cmap=custom_cmap)"
   ]
  },
  {
   "cell_type": "code",
   "execution_count": 22,
   "id": "b48d97b8",
   "metadata": {},
   "outputs": [
    {
     "data": {
      "text/plain": [
       "0.7963037455950543"
      ]
     },
     "execution_count": 22,
     "metadata": {},
     "output_type": "execute_result"
    }
   ],
   "source": [
    "#Q13: What portion of Milwaukee County is \"Open Water\"?\n",
    "\n",
    "(matrix == 11).astype(int).sum() / (matrix != 0).astype(int).sum()"
   ]
  },
  {
   "cell_type": "code",
   "execution_count": 23,
   "id": "f9da985c",
   "metadata": {},
   "outputs": [],
   "source": [
    "d_o = []\n",
    "for i in df.index:\n",
    "    info = df.loc[[i]]\n",
    "    matrix, _ = mask(land, info.to_crs(land.crs)[\"geometry\"], crop=True)\n",
    "    matrix = matrix[0]\n",
    "    d_o.append((matrix == 21).astype(int).sum())"
   ]
  },
  {
   "cell_type": "code",
   "execution_count": 24,
   "id": "eaffbbb0",
   "metadata": {},
   "outputs": [],
   "source": [
    "d_l = []\n",
    "\n",
    "for i in df.index:\n",
    "    info = df.loc[[i]]\n",
    "    matrix, _ = mask(land, info.to_crs(land.crs)[\"geometry\"], crop=True)\n",
    "    matrix = matrix[0]\n",
    "    d_l.append((matrix == 22).astype(int).sum())\n"
   ]
  },
  {
   "cell_type": "code",
   "execution_count": 25,
   "id": "828f5094",
   "metadata": {},
   "outputs": [],
   "source": [
    "d_m = []\n",
    "\n",
    "for i in df.index:\n",
    "    info = df.loc[[i]]\n",
    "    matrix, _ = mask(land, info.to_crs(land.crs)[\"geometry\"], crop=True)\n",
    "    matrix = matrix[0]\n",
    "    d_m.append((matrix == 23).astype(int).sum())\n"
   ]
  },
  {
   "cell_type": "code",
   "execution_count": 26,
   "id": "699a17c5",
   "metadata": {},
   "outputs": [],
   "source": [
    "d_h = []\n",
    "\n",
    "\n",
    "for i in df.index:\n",
    "    info = df.loc[[i]]\n",
    "    matrix, _ = mask(land, info.to_crs(land.crs)[\"geometry\"], crop=True)\n",
    "    matrix = matrix[0]\n",
    "    d_h.append((matrix == 24).astype(int).sum())\n"
   ]
  },
  {
   "cell_type": "code",
   "execution_count": 27,
   "id": "762e92cd",
   "metadata": {},
   "outputs": [],
   "source": [
    "info_dic = {}\n",
    "\n",
    "info_dic['developed_open'] = d_o\n",
    "info_dic['developed_low'] = d_l\n",
    "info_dic['developed_med'] = d_m\n",
    "info_dic['developed_high'] = d_h\n",
    "info_dic['POP100'] = list(df.POP100)\n",
    "land_df = pd.DataFrame(data = info_dic, index = df.NAME, columns = info_dic.keys(), dtype=None, copy=None)"
   ]
  },
  {
   "cell_type": "code",
   "execution_count": 28,
   "id": "eaa39bbb",
   "metadata": {},
   "outputs": [
    {
     "data": {
      "text/html": [
       "<div>\n",
       "<style scoped>\n",
       "    .dataframe tbody tr th:only-of-type {\n",
       "        vertical-align: middle;\n",
       "    }\n",
       "\n",
       "    .dataframe tbody tr th {\n",
       "        vertical-align: top;\n",
       "    }\n",
       "\n",
       "    .dataframe thead th {\n",
       "        text-align: right;\n",
       "    }\n",
       "</style>\n",
       "<table border=\"1\" class=\"dataframe\">\n",
       "  <thead>\n",
       "    <tr style=\"text-align: right;\">\n",
       "      <th></th>\n",
       "      <th>developed_open</th>\n",
       "      <th>developed_low</th>\n",
       "      <th>developed_med</th>\n",
       "      <th>developed_high</th>\n",
       "      <th>POP100</th>\n",
       "    </tr>\n",
       "    <tr>\n",
       "      <th>NAME</th>\n",
       "      <th></th>\n",
       "      <th></th>\n",
       "      <th></th>\n",
       "      <th></th>\n",
       "      <th></th>\n",
       "    </tr>\n",
       "  </thead>\n",
       "  <tbody>\n",
       "    <tr>\n",
       "      <th>Racine County</th>\n",
       "      <td>54221</td>\n",
       "      <td>83597</td>\n",
       "      <td>59855</td>\n",
       "      <td>23884</td>\n",
       "      <td>195408</td>\n",
       "    </tr>\n",
       "    <tr>\n",
       "      <th>Clark County</th>\n",
       "      <td>120056</td>\n",
       "      <td>30699</td>\n",
       "      <td>9656</td>\n",
       "      <td>1919</td>\n",
       "      <td>34690</td>\n",
       "    </tr>\n",
       "    <tr>\n",
       "      <th>Wood County</th>\n",
       "      <td>91622</td>\n",
       "      <td>61463</td>\n",
       "      <td>21553</td>\n",
       "      <td>8515</td>\n",
       "      <td>74749</td>\n",
       "    </tr>\n",
       "    <tr>\n",
       "      <th>Rusk County</th>\n",
       "      <td>63109</td>\n",
       "      <td>24302</td>\n",
       "      <td>4638</td>\n",
       "      <td>1344</td>\n",
       "      <td>14755</td>\n",
       "    </tr>\n",
       "    <tr>\n",
       "      <th>Ozaukee County</th>\n",
       "      <td>51067</td>\n",
       "      <td>63252</td>\n",
       "      <td>28051</td>\n",
       "      <td>7237</td>\n",
       "      <td>86395</td>\n",
       "    </tr>\n",
       "    <tr>\n",
       "      <th>...</th>\n",
       "      <td>...</td>\n",
       "      <td>...</td>\n",
       "      <td>...</td>\n",
       "      <td>...</td>\n",
       "      <td>...</td>\n",
       "    </tr>\n",
       "    <tr>\n",
       "      <th>Washburn County</th>\n",
       "      <td>72527</td>\n",
       "      <td>28146</td>\n",
       "      <td>8638</td>\n",
       "      <td>1753</td>\n",
       "      <td>15911</td>\n",
       "    </tr>\n",
       "    <tr>\n",
       "      <th>Monroe County</th>\n",
       "      <td>96714</td>\n",
       "      <td>53564</td>\n",
       "      <td>19121</td>\n",
       "      <td>4214</td>\n",
       "      <td>44673</td>\n",
       "    </tr>\n",
       "    <tr>\n",
       "      <th>Richland County</th>\n",
       "      <td>54895</td>\n",
       "      <td>30584</td>\n",
       "      <td>4521</td>\n",
       "      <td>1091</td>\n",
       "      <td>18021</td>\n",
       "    </tr>\n",
       "    <tr>\n",
       "      <th>Price County</th>\n",
       "      <td>93689</td>\n",
       "      <td>20960</td>\n",
       "      <td>4144</td>\n",
       "      <td>1095</td>\n",
       "      <td>14159</td>\n",
       "    </tr>\n",
       "    <tr>\n",
       "      <th>St. Croix County</th>\n",
       "      <td>114092</td>\n",
       "      <td>53970</td>\n",
       "      <td>25064</td>\n",
       "      <td>7909</td>\n",
       "      <td>84345</td>\n",
       "    </tr>\n",
       "  </tbody>\n",
       "</table>\n",
       "<p>72 rows × 5 columns</p>\n",
       "</div>"
      ],
      "text/plain": [
       "                  developed_open  developed_low  developed_med  \\\n",
       "NAME                                                             \n",
       "Racine County              54221          83597          59855   \n",
       "Clark County              120056          30699           9656   \n",
       "Wood County                91622          61463          21553   \n",
       "Rusk County                63109          24302           4638   \n",
       "Ozaukee County             51067          63252          28051   \n",
       "...                          ...            ...            ...   \n",
       "Washburn County            72527          28146           8638   \n",
       "Monroe County              96714          53564          19121   \n",
       "Richland County            54895          30584           4521   \n",
       "Price County               93689          20960           4144   \n",
       "St. Croix County          114092          53970          25064   \n",
       "\n",
       "                  developed_high  POP100  \n",
       "NAME                                      \n",
       "Racine County              23884  195408  \n",
       "Clark County                1919   34690  \n",
       "Wood County                 8515   74749  \n",
       "Rusk County                 1344   14755  \n",
       "Ozaukee County              7237   86395  \n",
       "...                          ...     ...  \n",
       "Washburn County             1753   15911  \n",
       "Monroe County               4214   44673  \n",
       "Richland County             1091   18021  \n",
       "Price County                1095   14159  \n",
       "St. Croix County            7909   84345  \n",
       "\n",
       "[72 rows x 5 columns]"
      ]
     },
     "execution_count": 28,
     "metadata": {},
     "output_type": "execute_result"
    }
   ],
   "source": [
    "land_df"
   ]
  },
  {
   "cell_type": "code",
   "execution_count": 29,
   "id": "49b4f12b",
   "metadata": {},
   "outputs": [
    {
     "data": {
      "text/plain": [
       "{'developed_open': {'Walworth County': 91733,\n",
       "  'Marquette County': 43703,\n",
       "  'Racine County': 54221},\n",
       " 'developed_low': {'Walworth County': 86417,\n",
       "  'Marquette County': 27193,\n",
       "  'Racine County': 83597},\n",
       " 'developed_med': {'Walworth County': 25760,\n",
       "  'Marquette County': 4541,\n",
       "  'Racine County': 59855},\n",
       " 'developed_high': {'Walworth County': 8235,\n",
       "  'Marquette County': 665,\n",
       "  'Racine County': 23884},\n",
       " 'POP100': {'Walworth County': 102228,\n",
       "  'Marquette County': 15404,\n",
       "  'Racine County': 195408}}"
      ]
     },
     "execution_count": 29,
     "metadata": {},
     "output_type": "execute_result"
    }
   ],
   "source": [
    "#Q14: What are the First 3 Columns of train, represented as nested dictionaries?\n",
    "\n",
    "train, test = train_test_split(land_df, random_state=320)\n",
    "\n",
    "train.iloc[:3].to_dict()"
   ]
  },
  {
   "cell_type": "code",
   "execution_count": 30,
   "id": "32aef744",
   "metadata": {},
   "outputs": [
    {
     "data": {
      "text/plain": [
       "<AxesSubplot:xlabel='developed_open', ylabel='POP100'>"
      ]
     },
     "execution_count": 30,
     "metadata": {},
     "output_type": "execute_result"
    },
    {
     "data": {
      "image/png": "[encoded data removed]",
      "text/plain": [
       "<Figure size 432x288 with 1 Axes>"
      ]
     },
     "metadata": {
      "needs_background": "light"
     },
     "output_type": "display_data"
    }
   ],
   "source": [
    "#Q15: What is the Relationship Between POP100 and ________________?\n",
    "\n",
    "land_df.plot.scatter(x = 'developed_open', y = 'POP100')"
   ]
  },
  {
   "cell_type": "code",
   "execution_count": 31,
   "id": "80aa9e67",
   "metadata": {},
   "outputs": [],
   "source": [
    "#Individual Part (25%)"
   ]
  },
  {
   "cell_type": "code",
   "execution_count": 32,
   "id": "d67e9422",
   "metadata": {},
   "outputs": [],
   "source": [
    "xcols = ['developed_open', 'developed_low', 'developed_med', 'developed_high']"
   ]
  },
  {
   "cell_type": "code",
   "execution_count": 33,
   "id": "9e4cb814",
   "metadata": {},
   "outputs": [],
   "source": [
    "pipe = Pipeline([\n",
    "    (\"poly\", PolynomialFeatures(degree=2, include_bias=False)),\n",
    "    (\"lr\", LinearRegression()),\n",
    "])\n",
    "\n",
    "\n",
    "\n",
    "l_m_scores = cross_val_score(pipe['lr'], train[xcols], train[\"POP100\"], cv=5)\n",
    "poly_scores = cross_val_score(pipe, train[xcols], train[\"POP100\"], cv=5)"
   ]
  },
  {
   "cell_type": "code",
   "execution_count": 34,
   "id": "78f0a1ea",
   "metadata": {},
   "outputs": [
    {
     "data": {
      "text/plain": [
       "(0.9181286409212671, 0.6490702789460191)"
      ]
     },
     "execution_count": 34,
     "metadata": {},
     "output_type": "execute_result"
    }
   ],
   "source": [
    "#Q16: How do the models compare in terms of average cross validation score on the training data (5 folds)?\n",
    "\n",
    "(l_m_scores.mean(), poly_scores.mean())"
   ]
  },
  {
   "cell_type": "code",
   "execution_count": 35,
   "id": "02a31019",
   "metadata": {},
   "outputs": [
    {
     "data": {
      "text/plain": [
       "[<matplotlib.axis.YTick at 0x7f6cfd8512b0>,\n",
       " <matplotlib.axis.YTick at 0x7f6cfd854c10>,\n",
       " <matplotlib.axis.YTick at 0x7f6cfd7db520>,\n",
       " <matplotlib.axis.YTick at 0x7f6cfd6d6250>,\n",
       " <matplotlib.axis.YTick at 0x7f6cfd6d69a0>]"
      ]
     },
     "execution_count": 35,
     "metadata": {},
     "output_type": "execute_result"
    },
    {
     "data": {
      "image/png": "[encoded data removed]",
      "text/plain": [
       "<Figure size 432x288 with 1 Axes>"
      ]
     },
     "metadata": {
      "needs_background": "light"
     },
     "output_type": "display_data"
    }
   ],
   "source": [
    "#Q17: How consistent are the scores of each model across different folds?\n",
    "\n",
    "scores_df = pd.DataFrame()\n",
    "\n",
    "scores_df.at[\"Linear\", \"score\"] = l_m_scores.mean()\n",
    "scores_df.at[\"Linear\", \"std_dev\"] = l_m_scores.std()\n",
    "scores_df.at[\"Polynomial\", \"score\"] = poly_scores.mean()\n",
    "scores_df.at[\"Polynomial\", \"std_dev\"] = poly_scores.std()\n",
    "\n",
    "ax = scores_df['score'].plot.bar(yerr=scores_df[\"std_dev\"])\n",
    "ax.set_ylabel(\"Avg, Explained Variance\")\n",
    "ax.set_yticks([0.00, 0.25, 0.5, 0.75, 1])"
   ]
  },
  {
   "cell_type": "code",
   "execution_count": 36,
   "id": "a5d7a7db",
   "metadata": {},
   "outputs": [
    {
     "data": {
      "text/plain": [
       "[<matplotlib.axis.YTick at 0x7f6cfd7a5760>,\n",
       " <matplotlib.axis.YTick at 0x7f6cfd797fa0>,\n",
       " <matplotlib.axis.YTick at 0x7f6cfd797400>]"
      ]
     },
     "execution_count": 36,
     "metadata": {},
     "output_type": "execute_result"
    },
    {
     "data": {
      "image/png": "[encoded data removed]",
      "text/plain": [
       "<Figure size 432x288 with 1 Axes>"
      ]
     },
     "metadata": {
      "needs_background": "light"
     },
     "output_type": "display_data"
    }
   ],
   "source": [
    "#Q18: what are the coefficients of the linear model?\n",
    "\n",
    "fit1 = pipe['lr'].fit(train[xcols], train['POP100'])\n",
    "coef = pipe['lr'].coef_\n",
    "\n",
    "ax = pd.Series(coef, index = xcols).plot.bar()\n",
    "ax.set_xlabel(\"Feature\")\n",
    "ax.set_ylabel(\"Weight\")\n",
    "ax.set_yticks([0,1,2])"
   ]
  },
  {
   "cell_type": "code",
   "execution_count": 37,
   "id": "62af9256",
   "metadata": {},
   "outputs": [
    {
     "data": {
      "text/plain": [
       "{'developed_open': -0.10421547981954869,\n",
       " 'developed_low': 1.2925525095848176,\n",
       " 'developed_med': -4.959212819522501,\n",
       " 'developed_high': 13.195644532447844,\n",
       " 'developed_open^2': 1.8580256379019389e-06,\n",
       " 'developed_open developed_low': -1.9531480201062656e-05,\n",
       " 'developed_open developed_med': 8.182470913425943e-05,\n",
       " 'developed_open developed_high': -0.00010695600475867095,\n",
       " 'developed_low^2': 3.5293004807535056e-05,\n",
       " 'developed_low developed_med': -0.0002326425087280648,\n",
       " 'developed_low developed_high': 0.00025876108520569985,\n",
       " 'developed_med^2': 0.0005602988332727987,\n",
       " 'developed_med developed_high': -0.0017321013682364689,\n",
       " 'developed_high^2': 0.001572181162921871}"
      ]
     },
     "execution_count": 37,
     "metadata": {},
     "output_type": "execute_result"
    }
   ],
   "source": [
    "#Q19: what are the coefficients of the polynomial model?\n",
    "\n",
    "fit2 = pipe.fit(train[xcols],train['POP100'])\n",
    "\n",
    "coeff = pipe['lr'].coef_\n",
    "features = pipe['poly'].get_feature_names_out()\n",
    "\n",
    "ans_dic = {}\n",
    "\n",
    "for i in range(len(features)):\n",
    "    ans_dic[features[i]] = coeff[i]\n",
    "    \n",
    "ans_dic"
   ]
  },
  {
   "cell_type": "code",
   "execution_count": 38,
   "id": "31821c2b",
   "metadata": {},
   "outputs": [
    {
     "data": {
      "text/plain": [
       "0.8659776114700685"
      ]
     },
     "execution_count": 38,
     "metadata": {},
     "output_type": "execute_result"
    }
   ],
   "source": [
    "#Q20: Choose the better of your two models -- how much variance can it explain in your test dataset?\n",
    "\n",
    "fit1 = pipe['lr'].fit(train[xcols], train['POP100'])\n",
    "fit1.score(test[xcols], test['POP100'])"
   ]
  }
 ],
 "metadata": {
  "kernelspec": {
   "display_name": "Python 3 (ipykernel)",
   "language": "python",
   "name": "python3"
  },
  "language_info": {
   "codemirror_mode": {
    "name": "ipython",
    "version": 3
   },
   "file_extension": ".py",
   "mimetype": "text/x-python",
   "name": "python",
   "nbconvert_exporter": "python",
   "pygments_lexer": "ipython3",
   "version": "3.8.10"
  }
 },
 "nbformat": 4,
 "nbformat_minor": 5
}
