{
 "cells": [
  {
   "cell_type": "code",
   "execution_count": 1,
   "id": "f5d735cd",
   "metadata": {},
   "outputs": [],
   "source": [
    "# project: p1\n",
    "# submitter: yeo9\n",
    "# partner: none\n",
    "# hours: 10"
   ]
  },
  {
   "cell_type": "code",
   "execution_count": 2,
   "id": "4b39494e",
   "metadata": {},
   "outputs": [],
   "source": [
    "import json, os\n",
    "import pandas as pd\n",
    "import matplotlib.pyplot as plt\n",
    "from subprocess import check_output\n",
    "import time"
   ]
  },
  {
   "cell_type": "code",
   "execution_count": 3,
   "id": "2c0ab9b1",
   "metadata": {},
   "outputs": [],
   "source": [
    "%matplotlib inline"
   ]
  },
  {
   "cell_type": "code",
   "execution_count": 4,
   "id": "d7f358b0",
   "metadata": {},
   "outputs": [
    {
     "data": {
      "text/plain": [
       "float"
      ]
     },
     "execution_count": 4,
     "metadata": {},
     "output_type": "execute_result"
    }
   ],
   "source": [
    "#Q1: what is the type of 7/2?\n",
    "\n",
    "type(7/2)"
   ]
  },
  {
   "cell_type": "code",
   "execution_count": 5,
   "id": "d7d1fdd8",
   "metadata": {},
   "outputs": [
    {
     "data": {
      "text/plain": [
       "True"
      ]
     },
     "execution_count": 5,
     "metadata": {},
     "output_type": "execute_result"
    }
   ],
   "source": [
    "#Q2: what is error?\n",
    "\n",
    "x = 4\n",
    "maximum = 10\n",
    "minimum = 5\n",
    "error = False\n",
    "if x not in range(minimum,maximum):\n",
    "    error = True\n",
    "    \n",
    "error"
   ]
  },
  {
   "cell_type": "code",
   "execution_count": 6,
   "id": "af8c0ed8",
   "metadata": {},
   "outputs": [
    {
     "data": {
      "text/plain": [
       "True"
      ]
     },
     "execution_count": 6,
     "metadata": {},
     "output_type": "execute_result"
    }
   ],
   "source": [
    "#Q3: ignoring case, does word end with the suffix \"esque\"?\n",
    "\n",
    "word = \"KAFKAESQUE\"\n",
    "suffix_match = word[5:].lower()\n",
    "if suffix_match == \"esque\":\n",
    "    suffix_match = True\n",
    "else:\n",
    "    suffix_match = False\n",
    "suffix_match"
   ]
  },
  {
   "cell_type": "code",
   "execution_count": 7,
   "id": "8e04b6dc",
   "metadata": {},
   "outputs": [],
   "source": [
    "def add(x,y=None):\n",
    "    if y == None:\n",
    "        return x+1\n",
    "    else:\n",
    "        return x+y"
   ]
  },
  {
   "cell_type": "code",
   "execution_count": 8,
   "id": "943afe7b",
   "metadata": {},
   "outputs": [
    {
     "data": {
      "text/plain": [
       "7"
      ]
     },
     "execution_count": 8,
     "metadata": {},
     "output_type": "execute_result"
    }
   ],
   "source": [
    "#Q4: what is add(3, 4)?\n",
    "\n",
    "add(3,4)"
   ]
  },
  {
   "cell_type": "code",
   "execution_count": 9,
   "id": "a9fbd16c",
   "metadata": {},
   "outputs": [
    {
     "data": {
      "text/plain": [
       "10"
      ]
     },
     "execution_count": 9,
     "metadata": {},
     "output_type": "execute_result"
    }
   ],
   "source": [
    "#Q5: what is add(9)?\n",
    "add(9)"
   ]
  },
  {
   "cell_type": "code",
   "execution_count": 10,
   "id": "1164b042",
   "metadata": {},
   "outputs": [
    {
     "data": {
      "text/plain": [
       "'positive'"
      ]
     },
     "execution_count": 10,
     "metadata": {},
     "output_type": "execute_result"
    }
   ],
   "source": [
    "#Q6: what is status?\n",
    "\n",
    "x = 4\n",
    "if x < 0:\n",
    "    status = \"negative\"\n",
    "elif x > 0:\n",
    "    status = \"positive\"\n",
    "else:\n",
    "    status = \"zero\"\n",
    "status"
   ]
  },
  {
   "cell_type": "code",
   "execution_count": 11,
   "id": "0401a61c",
   "metadata": {},
   "outputs": [],
   "source": [
    "nums = [3, 4, 1, 6]"
   ]
  },
  {
   "cell_type": "code",
   "execution_count": 12,
   "id": "6a9c0397",
   "metadata": {},
   "outputs": [],
   "source": [
    "def smart_count(nums):\n",
    "    sum = 0\n",
    "    for num in nums:\n",
    "        if num > 10:\n",
    "            continue\n",
    "        if num < 0:\n",
    "            break\n",
    "        else:\n",
    "            sum += num\n",
    "    \n",
    "    return sum"
   ]
  },
  {
   "cell_type": "code",
   "execution_count": 13,
   "id": "4c36aa95",
   "metadata": {},
   "outputs": [
    {
     "data": {
      "text/plain": [
       "14"
      ]
     },
     "execution_count": 13,
     "metadata": {},
     "output_type": "execute_result"
    }
   ],
   "source": [
    "#Q7: what is smart_count(nums)?\n",
    "\n",
    "smart_count(nums)"
   ]
  },
  {
   "cell_type": "code",
   "execution_count": 14,
   "id": "30568628",
   "metadata": {},
   "outputs": [
    {
     "data": {
      "text/plain": [
       "6"
      ]
     },
     "execution_count": 14,
     "metadata": {},
     "output_type": "execute_result"
    }
   ],
   "source": [
    "#Q8: what is smart_count([2, 1, 11, 3, 15, -1, 8, 2])?\n",
    "\n",
    "smart_count([2, 1, 11, 3, 15, -1, 8, 2])"
   ]
  },
  {
   "cell_type": "code",
   "execution_count": 15,
   "id": "161f92b2",
   "metadata": {},
   "outputs": [],
   "source": [
    "header = [\"A\", \"B\", \"C\"]\n",
    "\n",
    "coord1 = {\"x\": 8, \"y\": 5}\n",
    "coord2 = {\"x\": 9, \"y\": 2}\n",
    "coord3 = {\"x\": 3, \"y\": 1}\n",
    "\n",
    "rows = [\n",
    "    [1, 6, coord1],\n",
    "    [3, 4, coord2],\n",
    "    [5, 2, coord3],\n",
    "]"
   ]
  },
  {
   "cell_type": "code",
   "execution_count": 16,
   "id": "539a16d7",
   "metadata": {},
   "outputs": [
    {
     "data": {
      "text/plain": [
       "[[1, 6, {'x': 8, 'y': 5}],\n",
       " [3, 4, {'x': 9, 'y': 2}],\n",
       " [5, 2, {'x': 3, 'y': 1, 'z': 3.14}]]"
      ]
     },
     "execution_count": 16,
     "metadata": {},
     "output_type": "execute_result"
    }
   ],
   "source": [
    "#Q9: after inserting a \"z\" key in coord3 (with coord3[\"z\"] = 3.14), what is rows?\n",
    "\n",
    "coord3[\"z\"] = 3.14\n",
    "rows"
   ]
  },
  {
   "cell_type": "code",
   "execution_count": 17,
   "id": "a6695a9f",
   "metadata": {},
   "outputs": [
    {
     "data": {
      "text/plain": [
       "8"
      ]
     },
     "execution_count": 17,
     "metadata": {},
     "output_type": "execute_result"
    }
   ],
   "source": [
    "#Q10: what is the value associated with the \"x\" key of the dict in the last position of the first list?\n",
    "\n",
    "rows[0][-1][\"x\"]"
   ]
  },
  {
   "cell_type": "code",
   "execution_count": 18,
   "id": "38da81e4",
   "metadata": {},
   "outputs": [
    {
     "data": {
      "text/plain": [
       "[[1, 6, {'x': 8, 'y': 5}],\n",
       " [3, 9999, {'x': 9, 'y': 2}],\n",
       " [5, 2, {'x': 3, 'y': 1, 'z': 3.14}]]"
      ]
     },
     "execution_count": 18,
     "metadata": {},
     "output_type": "execute_result"
    }
   ],
   "source": [
    "#Q11: what is rows after running the following?\n",
    "\n",
    "import copy\n",
    "v2 = copy.copy(rows)\n",
    "v2[0] = 8888    # first change\n",
    "v2[1][1] = 9999 # second change\n",
    "\n",
    "rows"
   ]
  },
  {
   "cell_type": "code",
   "execution_count": 19,
   "id": "00073486",
   "metadata": {},
   "outputs": [
    {
     "data": {
      "text/plain": [
       "10007"
      ]
     },
     "execution_count": 19,
     "metadata": {},
     "output_type": "execute_result"
    }
   ],
   "source": [
    "#Q12: if we imagine the list of lists structure referenced by rows as a table, with column names in header, what is the sum of values in the \"B\" column?\n",
    "\n",
    "sum = 0\n",
    "for row in rows:\n",
    "    sum += row[header.index(\"B\")]\n",
    "    \n",
    "sum"
   ]
  },
  {
   "cell_type": "code",
   "execution_count": 20,
   "id": "8f1ab164",
   "metadata": {},
   "outputs": [
    {
     "data": {
      "text/plain": [
       "[[5, 2, {'x': 3, 'y': 1, 'z': 3.14}],\n",
       " [1, 6, {'x': 8, 'y': 5}],\n",
       " [3, 9999, {'x': 9, 'y': 2}]]"
      ]
     },
     "execution_count": 20,
     "metadata": {},
     "output_type": "execute_result"
    }
   ],
   "source": [
    "#Q13: what is rows after we sort it in-place by the \"B\" column, ascending?\n",
    "\n",
    "\n",
    "rows.sort(key=lambda row: row[header.index(\"B\")], reverse=False)\n",
    "rows"
   ]
  },
  {
   "cell_type": "code",
   "execution_count": 21,
   "id": "37f03312",
   "metadata": {},
   "outputs": [
    {
     "data": {
      "text/plain": [
       "338.925581904448"
      ]
     },
     "execution_count": 21,
     "metadata": {},
     "output_type": "execute_result"
    }
   ],
   "source": [
    "#Q14: say you're going on vacation to Europe with 400 US dollars; how many Euros can you get at the current exchange rate?\n",
    "\n",
    "\n",
    "f = open(\"usd.json\")\n",
    "data = f.read()\n",
    "f.close()\n",
    "\n",
    "final_data = json.loads(data)\n",
    "answer = final_data['eur']['rate'] * 400\n",
    "answer"
   ]
  },
  {
   "cell_type": "code",
   "execution_count": 22,
   "id": "a69cb39e",
   "metadata": {},
   "outputs": [],
   "source": [
    "def divide(x,y):\n",
    "    try:\n",
    "        return x / y\n",
    "    except ZeroDivisionError:\n",
    "        return float(\"nan\")"
   ]
  },
  {
   "cell_type": "code",
   "execution_count": 23,
   "id": "f97ff470",
   "metadata": {},
   "outputs": [
    {
     "data": {
      "text/plain": [
       "1.5"
      ]
     },
     "execution_count": 23,
     "metadata": {},
     "output_type": "execute_result"
    }
   ],
   "source": [
    "#Q15: what is divide(3, 2)?\n",
    "\n",
    "divide(3,2)"
   ]
  },
  {
   "cell_type": "code",
   "execution_count": 24,
   "id": "7d07665e",
   "metadata": {},
   "outputs": [
    {
     "data": {
      "text/plain": [
       "nan"
      ]
     },
     "execution_count": 24,
     "metadata": {},
     "output_type": "execute_result"
    }
   ],
   "source": [
    "#Q16: what is divide(-3, 0)?\n",
    "\n",
    "divide(-3,0)"
   ]
  },
  {
   "cell_type": "code",
   "execution_count": 25,
   "id": "e5e6b0e3",
   "metadata": {},
   "outputs": [
    {
     "data": {
      "text/plain": [
       "[2013, 2014, 2015, 2016, 2017, 2018]"
      ]
     },
     "execution_count": 25,
     "metadata": {},
     "output_type": "execute_result"
    }
   ],
   "source": [
    "#Q17: what are the keys in years?\n",
    "\n",
    "years = {}\n",
    "path = \"home-computers\"\n",
    "file_list = []\n",
    "df_list = []\n",
    "year_list = []\n",
    "for file in os.listdir(path):\n",
    "    if file.startswith(\".\"):\n",
    "        continue\n",
    "    file_list.append(file)\n",
    "\n",
    "\n",
    "for file in file_list:\n",
    "    df_list.append(pd.read_csv(os.path.join(path, file), skiprows = 1))\n",
    "\n",
    "    \n",
    "\n",
    "for file in file_list:\n",
    "    year_list.append(int(file[7:11]))\n",
    "    \n",
    "for i in range(len(year_list)):\n",
    "    years[year_list[i]] = df_list[i]\n",
    "    \n",
    "sorted(year_list)"
   ]
  },
  {
   "cell_type": "code",
   "execution_count": 26,
   "id": "fa9892a8",
   "metadata": {},
   "outputs": [
    {
     "data": {
      "text/plain": [
       "2371960"
      ]
     },
     "execution_count": 26,
     "metadata": {},
     "output_type": "execute_result"
    }
   ],
   "source": [
    "#Q18: how many households did Wisconsin have in 2018?\n",
    "\n",
    "df = years[2018]\n",
    "df.loc[df['Geographic Area Name'] == 'Wisconsin', \"Estimate!!Total\"].sum()"
   ]
  },
  {
   "cell_type": "code",
   "execution_count": 27,
   "id": "6a0f7418",
   "metadata": {},
   "outputs": [
    {
     "data": {
      "text/plain": [
       "10285814"
      ]
     },
     "execution_count": 27,
     "metadata": {},
     "output_type": "execute_result"
    }
   ],
   "source": [
    "#Q19: how many total households in the US are estimated to not have any computer at home? (2018)\n",
    "\n",
    "df.loc[:, \"Estimate!!Total!!No Computer\"].sum()"
   ]
  },
  {
   "cell_type": "code",
   "execution_count": 28,
   "id": "73697a1e",
   "metadata": {},
   "outputs": [
    {
     "data": {
      "text/plain": [
       "0.12375641594322287"
      ]
     },
     "execution_count": 28,
     "metadata": {},
     "output_type": "execute_result"
    }
   ],
   "source": [
    "#Q20: what is the biggest per-state margin of error for \"No Computer\", as a fraction of the total estimate? (2018)\n",
    "\n",
    "s1 = df.loc[:, \"Estimate!!Total!!No Computer\"]\n",
    "s2 = df.loc[:, \"Margin of Error!!Total!!No Computer\"]\n",
    "s3 = s2 / s1\n",
    "s3.max()"
   ]
  },
  {
   "cell_type": "code",
   "execution_count": 29,
   "id": "405a35bb",
   "metadata": {},
   "outputs": [
    {
     "data": {
      "text/plain": [
       "{'Illinois': 8.524143737625552,\n",
       " 'Indiana': 9.463486214247707,\n",
       " 'Iowa': 9.468929459023103,\n",
       " 'Michigan': 8.936374942955922,\n",
       " 'Minnesota': 7.491847623005652,\n",
       " 'Wisconsin': 9.582497175331794}"
      ]
     },
     "execution_count": 29,
     "metadata": {},
     "output_type": "execute_result"
    }
   ],
   "source": [
    "#Q21: for Wisconsin and adjacent states, what percent of households are estimated to be without a computer? (2018)\n",
    "\n",
    "answer_dict = {}\n",
    "adjacent_states = ['Illinois', 'Indiana', 'Iowa', 'Michigan', 'Minnesota', 'Wisconsin']\n",
    "\n",
    "for state in df.loc[:, \"Geographic Area Name\"]:\n",
    "    if state in adjacent_states:\n",
    "        answer_dict[state] = float(df.loc[df[\"Geographic Area Name\"] == state, \"Estimate!!Total!!No Computer\"] / df.loc[df[\"Geographic Area Name\"] == state, \"Estimate!!Total\"] * 100)\n",
    "    else:\n",
    "        continue\n",
    "    \n",
    "answer_dict"
   ]
  },
  {
   "cell_type": "code",
   "execution_count": 30,
   "id": "13e087b6",
   "metadata": {},
   "outputs": [
    {
     "data": {
      "image/png": "[encoded data removed]",
      "text/plain": [
       "<Figure size 432x288 with 1 Axes>"
      ]
     },
     "metadata": {
      "needs_background": "light"
     },
     "output_type": "display_data"
    }
   ],
   "source": [
    "#Q22: same question, but answer with a bar plot.\n",
    "\n",
    "def plot_dict(d, label_x = \"Please Label Me!!!\", label_y = \"Please Label Me!!!\"):\n",
    "    ax = pd.Series(d).sort_index().plot.bar(fontsize = 16)\n",
    "    ax.set_xlabel(label_x, fontsize=16)\n",
    "    ax.set_ylabel(label_y, fontsize=16)\n",
    "    \n",
    "plot_dict(answer_dict, \"Geographic Area Name\", \"% of Households w/o Computers\")"
   ]
  },
  {
   "cell_type": "code",
   "execution_count": 31,
   "id": "426d9cf8",
   "metadata": {},
   "outputs": [
    {
     "data": {
      "text/plain": [
       "[<matplotlib.axis.YTick at 0x7f915c284520>,\n",
       " <matplotlib.axis.YTick at 0x7f915c27de80>,\n",
       " <matplotlib.axis.YTick at 0x7f915c27d2b0>,\n",
       " <matplotlib.axis.YTick at 0x7f915c2b1eb0>]"
      ]
     },
     "execution_count": 31,
     "metadata": {},
     "output_type": "execute_result"
    },
    {
     "data": {
      "image/png": "[encoded data removed]",
      "text/plain": [
       "<Figure size 432x288 with 1 Axes>"
      ]
     },
     "metadata": {
      "needs_background": "light"
     },
     "output_type": "display_data"
    }
   ],
   "source": [
    "#Q23: how as the number of WI households without computers changed over recent years?\n",
    "\n",
    "year_list2 = sorted(year_list)\n",
    "year_dict = {}\n",
    "\n",
    "for year in year_list2:\n",
    "    year_dict[year] = years[year].loc[years[year]['Geographic Area Name'] == 'Wisconsin', \"Estimate!!Total!!No Computer\"].sum() / 1000 #divided by 1000 for the shape of the plot\n",
    "\n",
    "\n",
    "s = pd.Series(year_dict)\n",
    "s = s.plot()\n",
    "s.set_xlabel(\"Year\", fontsize = 16)\n",
    "s.set_ylabel(\"WI Households without \\n Computers (thousands)\")\n",
    "s.set_yticks([0,100,200,300])"
   ]
  },
  {
   "cell_type": "code",
   "execution_count": 32,
   "id": "c0fef725",
   "metadata": {},
   "outputs": [
    {
     "data": {
      "text/plain": [
       "[<matplotlib.axis.YTick at 0x7f915c26f8e0>,\n",
       " <matplotlib.axis.YTick at 0x7f915c26f160>,\n",
       " <matplotlib.axis.YTick at 0x7f915c266130>,\n",
       " <matplotlib.axis.YTick at 0x7f915c22ef40>,\n",
       " <matplotlib.axis.YTick at 0x7f915c2356d0>]"
      ]
     },
     "execution_count": 32,
     "metadata": {},
     "output_type": "execute_result"
    },
    {
     "data": {
      "image/png": "[encoded data removed]",
      "text/plain": [
       "<Figure size 432x288 with 1 Axes>"
      ]
     },
     "metadata": {
      "needs_background": "light"
     },
     "output_type": "display_data"
    }
   ],
   "source": [
    "#Q24: what is the relationship between household with smartphones and those with tablets? (2018)\n",
    "\n",
    "\n",
    "df = years[2018]\n",
    "\n",
    "df = df.loc[:,[\"Estimate!!Total!!Has one or more types of computing devices!!Smartphone\", \"Estimate!!Total!!Has one or more types of computing devices!!Tablet or other portable wireless computer\"]] / 1000000\n",
    "sp = \"Estimate!!Total!!Has one or more types of computing devices!!Smartphone\"\n",
    "tb = \"Estimate!!Total!!Has one or more types of computing devices!!Tablet or other portable wireless computer\"\n",
    "plt = df.plot.scatter(sp,tb)\n",
    "plt.set_xlabel(\"Smartphones (millions)\")\n",
    "plt.set_ylabel(\"Tablets (millions)\")\n",
    "plt.set_xticks([0.0, 2.5, 5.0, 7.5, 10.0])\n",
    "plt.set_yticks([0, 2, 4, 6, 8])"
   ]
  },
  {
   "cell_type": "code",
   "execution_count": 33,
   "id": "39fabdb8",
   "metadata": {},
   "outputs": [
    {
     "data": {
      "text/plain": [
       "'commit 4e4128313b8d5b5e5d04f2e8e585f64f7c5831a4'"
      ]
     },
     "execution_count": 33,
     "metadata": {},
     "output_type": "execute_result"
    }
   ],
   "source": [
    "#Q25: what is the first line of output from git log?\n",
    "\n",
    "str(check_output([\"git\", \"log\"], cwd=\"cs320-p1\"), \"utf-8\").split(\"\\n\")[0]"
   ]
  },
  {
   "cell_type": "code",
   "execution_count": 34,
   "id": "e70e9944",
   "metadata": {},
   "outputs": [
    {
     "data": {
      "text/plain": [
       "['4e4128313b8d5b5e5d04f2e8e585f64f7c5831a4',\n",
       " 'f637df3f45bc389e1035cc3aadcf5d81a55f0dc4',\n",
       " 'c10b5a6cb4f06c96f6f221df2d5ec33af767d5c5',\n",
       " 'f37e610ce055a3d894baac2d9449e6eb77c72320',\n",
       " '6f5ca9327e986315ffcacddce5d9d6195c0913b7',\n",
       " '761627a3ad9ee681f27211326e9149f01764ceee',\n",
       " 'b0df6dbe111f9e28fc3a9c9b841cde5c20c365f9',\n",
       " '6d7beafb8e79b7a92fed8e67673a33bb7f607dbe']"
      ]
     },
     "execution_count": 34,
     "metadata": {},
     "output_type": "execute_result"
    }
   ],
   "source": [
    "#Q26: What are all the commit numbers?\n",
    "\n",
    "commits = str(check_output([\"git\", \"log\"], cwd=\"cs320-p1\"), \"utf-8\").split(\"\\n\")\n",
    "commit_list = []\n",
    "\n",
    "for line in commits:\n",
    "    if line.startswith(\"commit\"):\n",
    "        commit = line.split(\" \")\n",
    "        commit_list.append(commit[1])\n",
    "commit_list"
   ]
  },
  {
   "cell_type": "code",
   "execution_count": 35,
   "id": "b98fa779",
   "metadata": {},
   "outputs": [
    {
     "name": "stderr",
     "output_type": "stream",
     "text": [
      "Note: switching to '4e4128313b8d5b5e5d04f2e8e585f64f7c5831a4'.\n",
      "\n",
      "You are in 'detached HEAD' state. You can look around, make experimental\n",
      "changes and commit them, and you can discard any commits you make in this\n",
      "state without impacting any branches by switching back to a branch.\n",
      "\n",
      "If you want to create a new branch to retain commits you create, you may\n",
      "do so (now or later) by using -c with the switch command. Example:\n",
      "\n",
      "  git switch -c <new-branch-name>\n",
      "\n",
      "Or undo this operation with:\n",
      "\n",
      "  git switch -\n",
      "\n",
      "Turn off this advice by setting config variable advice.detachedHead to false\n",
      "\n",
      "HEAD is now at 4e41283 only make one pass over list to count all\n",
      "Previous HEAD position was 4e41283 only make one pass over list to count all\n",
      "HEAD is now at f637df3 only make one pass over list to count all\n",
      "Previous HEAD position was f637df3 only make one pass over list to count all\n",
      "HEAD is now at c10b5a6 optimize: only compute count once per unique word\n",
      "Previous HEAD position was c10b5a6 optimize: only compute count once per unique word\n",
      "HEAD is now at f37e610 do not repeatedly re-read file, use with to automatically close\n",
      "Previous HEAD position was f37e610 do not repeatedly re-read file, use with to automatically close\n",
      "HEAD is now at 6f5ca93 ignore case, usage line\n",
      "Previous HEAD position was 6f5ca93 ignore case, usage line\n",
      "HEAD is now at 761627a bugfix\n",
      "Previous HEAD position was 761627a bugfix\n",
      "HEAD is now at b0df6db support wildcards\n",
      "Previous HEAD position was b0df6db support wildcards\n",
      "HEAD is now at 6d7beaf count a specific word\n"
     ]
    },
    {
     "data": {
      "text/plain": [
       "{'4e4128313b8d5b5e5d04f2e8e585f64f7c5831a4': 43,\n",
       " 'f637df3f45bc389e1035cc3aadcf5d81a55f0dc4': 40,\n",
       " 'c10b5a6cb4f06c96f6f221df2d5ec33af767d5c5': 40,\n",
       " 'f37e610ce055a3d894baac2d9449e6eb77c72320': 40,\n",
       " '6f5ca9327e986315ffcacddce5d9d6195c0913b7': 39,\n",
       " '761627a3ad9ee681f27211326e9149f01764ceee': 35,\n",
       " 'b0df6dbe111f9e28fc3a9c9b841cde5c20c365f9': 35,\n",
       " '6d7beafb8e79b7a92fed8e67673a33bb7f607dbe': 21}"
      ]
     },
     "execution_count": 35,
     "metadata": {},
     "output_type": "execute_result"
    }
   ],
   "source": [
    "#Q27: how has the length of wc.py changed over time?\n",
    "\n",
    "\n",
    "\n",
    "answer_dict = {}\n",
    "for commit in commit_list:\n",
    "    check_output([\"git\", \"checkout\", commit], cwd=\"cs320-p1\")\n",
    "    file_path = os.path.join(\"cs320-p1\",\"wc.py\")\n",
    "    \n",
    "    with open(file_path, \"r\") as f:\n",
    "        data = f.read().strip().split(\"\\n\")\n",
    "        \n",
    "        \n",
    "    answer_dict[commit] = len(data)\n",
    "    \n",
    "        \n",
    "\n",
    "\n",
    "answer_dict"
   ]
  },
  {
   "cell_type": "code",
   "execution_count": 36,
   "id": "5fda8585",
   "metadata": {},
   "outputs": [
    {
     "name": "stderr",
     "output_type": "stream",
     "text": [
      "Previous HEAD position was 6d7beaf count a specific word\n",
      "Switched to branch 'main'\n"
     ]
    },
    {
     "data": {
      "text/plain": [
       "b\"Your branch is up to date with 'origin/main'.\\n\""
      ]
     },
     "execution_count": 36,
     "metadata": {},
     "output_type": "execute_result"
    }
   ],
   "source": [
    "check_output([\"git\", \"checkout\", \"main\"], cwd=\"cs320-p1\")"
   ]
  },
  {
   "cell_type": "code",
   "execution_count": 37,
   "id": "12a72394",
   "metadata": {},
   "outputs": [
    {
     "data": {
      "text/plain": [
       "{'A': 1, 'B': 1, 'C': 2}"
      ]
     },
     "execution_count": 37,
     "metadata": {},
     "output_type": "execute_result"
    }
   ],
   "source": [
    "#Q28: what does python3 cs320-p1/wc.py input.txt ALL return when input.txt contains \"A B C C\"?\n",
    "text = \"A B C C\"\n",
    "\n",
    "\n",
    "with open(\"input.txt\", 'w', encoding = 'utf-8') as f:\n",
    "    f.write(text)\n",
    "\n",
    "\n",
    "string = str(check_output(\"python3 cs320-p1/wc.py input.txt ALL\", shell = True), \"utf-8\")\n",
    "file = json.loads(string)\n",
    "file"
   ]
  },
  {
   "cell_type": "code",
   "execution_count": 38,
   "id": "94611bf5",
   "metadata": {},
   "outputs": [
    {
     "name": "stderr",
     "output_type": "stream",
     "text": [
      "Note: switching to '4e4128313b8d5b5e5d04f2e8e585f64f7c5831a4'.\n",
      "\n",
      "You are in 'detached HEAD' state. You can look around, make experimental\n",
      "changes and commit them, and you can discard any commits you make in this\n",
      "state without impacting any branches by switching back to a branch.\n",
      "\n",
      "If you want to create a new branch to retain commits you create, you may\n",
      "do so (now or later) by using -c with the switch command. Example:\n",
      "\n",
      "  git switch -c <new-branch-name>\n",
      "\n",
      "Or undo this operation with:\n",
      "\n",
      "  git switch -\n",
      "\n",
      "Turn off this advice by setting config variable advice.detachedHead to false\n",
      "\n",
      "HEAD is now at 4e41283 only make one pass over list to count all\n",
      "Previous HEAD position was 4e41283 only make one pass over list to count all\n",
      "HEAD is now at f637df3 only make one pass over list to count all\n",
      "Traceback (most recent call last):\n",
      "  File \"cs320-p1/wc.py\", line 40, in <module>\n",
      "    main()\n",
      "  File \"cs320-p1/wc.py\", line 33, in main\n",
      "    counts[word] += 1\n",
      "KeyError: 'A'\n",
      "Previous HEAD position was f637df3 only make one pass over list to count all\n",
      "HEAD is now at c10b5a6 optimize: only compute count once per unique word\n",
      "Previous HEAD position was c10b5a6 optimize: only compute count once per unique word\n",
      "HEAD is now at f37e610 do not repeatedly re-read file, use with to automatically close\n",
      "Previous HEAD position was f37e610 do not repeatedly re-read file, use with to automatically close\n",
      "HEAD is now at 6f5ca93 ignore case, usage line\n",
      "Previous HEAD position was 6f5ca93 ignore case, usage line\n",
      "HEAD is now at 761627a bugfix\n",
      "Previous HEAD position was 761627a bugfix\n",
      "HEAD is now at b0df6db support wildcards\n",
      "Previous HEAD position was b0df6db support wildcards\n",
      "HEAD is now at 6d7beaf count a specific word\n"
     ]
    },
    {
     "data": {
      "text/plain": [
       "['f637df3f45bc389e1035cc3aadcf5d81a55f0dc4']"
      ]
     },
     "execution_count": 38,
     "metadata": {},
     "output_type": "execute_result"
    }
   ],
   "source": [
    "#Q29: for which versions (commits) of the program does the previous command fail?\n",
    "\n",
    "fail_list = []\n",
    "\n",
    "for commit in commit_list:\n",
    "    check_output([\"git\", \"checkout\", commit], cwd=\"cs320-p1\")\n",
    "    try:\n",
    "        str(check_output(\"python3 cs320-p1/wc.py input.txt ALL\", shell = True), \"utf-8\")       \n",
    "    except:\n",
    "        fail_list.append(commit)\n",
    "    \n",
    "\n",
    "\n",
    "fail_list\n"
   ]
  },
  {
   "cell_type": "code",
   "execution_count": 39,
   "id": "4557951e",
   "metadata": {},
   "outputs": [
    {
     "name": "stderr",
     "output_type": "stream",
     "text": [
      "Previous HEAD position was 6d7beaf count a specific word\n",
      "Switched to branch 'main'\n"
     ]
    },
    {
     "data": {
      "text/plain": [
       "b\"Your branch is up to date with 'origin/main'.\\n\""
      ]
     },
     "execution_count": 39,
     "metadata": {},
     "output_type": "execute_result"
    }
   ],
   "source": [
    "check_output([\"git\", \"checkout\", \"main\"], cwd=\"cs320-p1\")"
   ]
  },
  {
   "cell_type": "code",
   "execution_count": 40,
   "id": "ea4880d9",
   "metadata": {},
   "outputs": [],
   "source": [
    "def run_wc(word, commit):\n",
    "    with open(\"input.txt\", \"w\", encoding = \"utf-8\") as f:\n",
    "        f.write(word)\n",
    "        \n",
    "    check_output([\"git\", \"checkout\", commit], cwd=\"cs320-p1\")\n",
    "    result = str(check_output(\"python3 cs320-p1/wc.py input.txt ALL\", \n",
    "                                shell = True), encoding = \"utf-8\")\n",
    "    file = json.loads(result)\n",
    "    return file\n",
    "\n"
   ]
  },
  {
   "cell_type": "code",
   "execution_count": 41,
   "id": "e45cac51",
   "metadata": {},
   "outputs": [
    {
     "name": "stderr",
     "output_type": "stream",
     "text": [
      "Note: switching to '4e4128313b8d5b5e5d04f2e8e585f64f7c5831a4'.\n",
      "\n",
      "You are in 'detached HEAD' state. You can look around, make experimental\n",
      "changes and commit them, and you can discard any commits you make in this\n",
      "state without impacting any branches by switching back to a branch.\n",
      "\n",
      "If you want to create a new branch to retain commits you create, you may\n",
      "do so (now or later) by using -c with the switch command. Example:\n",
      "\n",
      "  git switch -c <new-branch-name>\n",
      "\n",
      "Or undo this operation with:\n",
      "\n",
      "  git switch -\n",
      "\n",
      "Turn off this advice by setting config variable advice.detachedHead to false\n",
      "\n",
      "HEAD is now at 4e41283 only make one pass over list to count all\n",
      "HEAD is now at 4e41283 only make one pass over list to count all\n",
      "HEAD is now at 4e41283 only make one pass over list to count all\n",
      "HEAD is now at 4e41283 only make one pass over list to count all\n",
      "HEAD is now at 4e41283 only make one pass over list to count all\n",
      "HEAD is now at 4e41283 only make one pass over list to count all\n"
     ]
    },
    {
     "data": {
      "text/plain": [
       "[<matplotlib.axis.YTick at 0x7f915c1ee100>,\n",
       " <matplotlib.axis.YTick at 0x7f915c1e8940>,\n",
       " <matplotlib.axis.YTick at 0x7f915c1dd850>,\n",
       " <matplotlib.axis.YTick at 0x7f915c1a57c0>,\n",
       " <matplotlib.axis.YTick at 0x7f915c1a0fa0>]"
      ]
     },
     "execution_count": 41,
     "metadata": {},
     "output_type": "execute_result"
    },
    {
     "data": {
      "image/png": "[encoded data removed]",
      "text/plain": [
       "<Figure size 432x288 with 1 Axes>"
      ]
     },
     "metadata": {
      "needs_background": "light"
     },
     "output_type": "display_data"
    }
   ],
   "source": [
    "#Q30: for commit 4e4128313b8d5b5e5d04f2e8e585f64f7c5831a4, what is the relationship between input size and time to run wc.py?\n",
    "\n",
    "plot_dict = {}\n",
    "for i in range(0,1200,200):\n",
    "    t0 = time.time()\n",
    "    run_wc(\"word\\n\" * i, \"4e4128313b8d5b5e5d04f2e8e585f64f7c5831a4\")\n",
    "    t1 = time.time()\n",
    "    running_time = (t1-t0) * 1000\n",
    "    plot_dict[i] = running_time\n",
    "\n",
    "series = pd.Series(plot_dict)\n",
    "series = series.plot()\n",
    "series.set_xlabel(\"Words\", fontsize = 16)\n",
    "series.set_ylabel(\"Milliseconds\", fontsize = 16)\n",
    "series.set_yticks([0,10,20,30,40])\n",
    "\n"
   ]
  },
  {
   "cell_type": "code",
   "execution_count": 42,
   "id": "693844f2",
   "metadata": {},
   "outputs": [
    {
     "name": "stderr",
     "output_type": "stream",
     "text": [
      "Previous HEAD position was 4e41283 only make one pass over list to count all\n",
      "HEAD is now at f37e610 do not repeatedly re-read file, use with to automatically close\n",
      "HEAD is now at f37e610 do not repeatedly re-read file, use with to automatically close\n",
      "HEAD is now at f37e610 do not repeatedly re-read file, use with to automatically close\n",
      "HEAD is now at f37e610 do not repeatedly re-read file, use with to automatically close\n",
      "HEAD is now at f37e610 do not repeatedly re-read file, use with to automatically close\n",
      "HEAD is now at f37e610 do not repeatedly re-read file, use with to automatically close\n"
     ]
    },
    {
     "data": {
      "text/plain": [
       "[<matplotlib.axis.YTick at 0x7f915c14d670>,\n",
       " <matplotlib.axis.YTick at 0x7f915c144eb0>,\n",
       " <matplotlib.axis.YTick at 0x7f915c1442e0>,\n",
       " <matplotlib.axis.YTick at 0x7f915c1063a0>,\n",
       " <matplotlib.axis.YTick at 0x7f915c106af0>]"
      ]
     },
     "execution_count": 42,
     "metadata": {},
     "output_type": "execute_result"
    },
    {
     "data": {
      "image/png": "[encoded data removed]",
      "text/plain": [
       "<Figure size 432x288 with 1 Axes>"
      ]
     },
     "metadata": {
      "needs_background": "light"
     },
     "output_type": "display_data"
    }
   ],
   "source": [
    "#Q31: for commit f37e610ce055a3d894baac2d9449e6eb77c72320, what is the relationship between input size and time to run wc.py?\n",
    "\n",
    "plot_dict = {}\n",
    "for i in range(0,1200,200):\n",
    "    t0 = time.time()\n",
    "    run_wc(\"word\\n\" * i, \"f37e610ce055a3d894baac2d9449e6eb77c72320\")\n",
    "    t1 = time.time()\n",
    "    running_time = (t1-t0)\n",
    "    plot_dict[i] = running_time * 1000\n",
    "    \n",
    "series = pd.Series(plot_dict)\n",
    "series = series.plot()\n",
    "series.set_xlabel(\"Words\", fontsize = 16)\n",
    "series.set_ylabel(\"Milliseconds\", fontsize = 16)\n",
    "series.set_yticks([0,10,20,30,40])\n",
    "\n"
   ]
  },
  {
   "cell_type": "code",
   "execution_count": 43,
   "id": "8fd6c7f8",
   "metadata": {},
   "outputs": [
    {
     "name": "stderr",
     "output_type": "stream",
     "text": [
      "Previous HEAD position was f37e610 do not repeatedly re-read file, use with to automatically close\n",
      "HEAD is now at 6f5ca93 ignore case, usage line\n",
      "HEAD is now at 6f5ca93 ignore case, usage line\n",
      "HEAD is now at 6f5ca93 ignore case, usage line\n",
      "HEAD is now at 6f5ca93 ignore case, usage line\n",
      "HEAD is now at 6f5ca93 ignore case, usage line\n",
      "HEAD is now at 6f5ca93 ignore case, usage line\n"
     ]
    },
    {
     "data": {
      "text/plain": [
       "[<matplotlib.axis.YTick at 0x7f915c127d60>,\n",
       " <matplotlib.axis.YTick at 0x7f915c1275e0>,\n",
       " <matplotlib.axis.YTick at 0x7f915c121490>,\n",
       " <matplotlib.axis.YTick at 0x7f915c0e0be0>,\n",
       " <matplotlib.axis.YTick at 0x7f915c0e9370>]"
      ]
     },
     "execution_count": 43,
     "metadata": {},
     "output_type": "execute_result"
    },
    {
     "data": {
      "image/png": "[encoded data removed]",
      "text/plain": [
       "<Figure size 432x288 with 1 Axes>"
      ]
     },
     "metadata": {
      "needs_background": "light"
     },
     "output_type": "display_data"
    }
   ],
   "source": [
    "#Q32: for commit 6f5ca9327e986315ffcacddce5d9d6195c0913b7, what is the relationship between input size and time to run wc.py?\n",
    "\n",
    "plot_dict = {}\n",
    "for i in range(0,1200,200):\n",
    "    t0 = time.time()\n",
    "    run_wc(\"word\\n\" * i, \"6f5ca9327e986315ffcacddce5d9d6195c0913b7\")\n",
    "    t1 = time.time()\n",
    "    running_time = (t1-t0) * 1000\n",
    "    plot_dict[i] = running_time\n",
    "    \n",
    "series = pd.Series(plot_dict)\n",
    "series = series.plot()\n",
    "series.set_xlabel(\"Words\", fontsize = 16)\n",
    "series.set_ylabel(\"Milliseconds\", fontsize = 16)\n",
    "series.set_yticks([0,100,200,300,400])\n",
    "\n"
   ]
  },
  {
   "cell_type": "code",
   "execution_count": 44,
   "id": "ff9250f2",
   "metadata": {},
   "outputs": [
    {
     "name": "stderr",
     "output_type": "stream",
     "text": [
      "Previous HEAD position was 6f5ca93 ignore case, usage line\n",
      "Switched to branch 'main'\n"
     ]
    },
    {
     "data": {
      "text/plain": [
       "b\"Your branch is up to date with 'origin/main'.\\n\""
      ]
     },
     "execution_count": 44,
     "metadata": {},
     "output_type": "execute_result"
    }
   ],
   "source": [
    "check_output([\"git\", \"checkout\", \"main\"], cwd=\"cs320-p1\")"
   ]
  }
 ],
 "metadata": {
  "kernelspec": {
   "display_name": "Python 3 (ipykernel)",
   "language": "python",
   "name": "python3"
  },
  "language_info": {
   "codemirror_mode": {
    "name": "ipython",
    "version": 3
   },
   "file_extension": ".py",
   "mimetype": "text/x-python",
   "name": "python",
   "nbconvert_exporter": "python",
   "pygments_lexer": "ipython3",
   "version": "3.8.10"
  }
 },
 "nbformat": 4,
 "nbformat_minor": 5
}
